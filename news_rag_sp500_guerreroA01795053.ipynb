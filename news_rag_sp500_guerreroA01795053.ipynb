{
 "cells": [
  {
   "cell_type": "markdown",
   "id": "4e231d13",
   "metadata": {},
   "source": [
    "# Introduction to Retrieval Augmented Generation with S&P 500 news\n",
    "\n",
    "In this notebook, you will explore how to build a simple Retrieval-Augmented Generation (RAG) pipeline using financial news articles from S&P 500 companies.\n",
    "\n",
    "We'll start by vectorizing text data, creating a vector store using FAISS, and integrating it with OpenAI's GPT models to answer questions using retrieved information.\n",
    "\n",
    "This workflow emulates real-world systems in finance where natural language data (news, filings, analyst reports) are used to support decision-making."
   ]
  },
  {
   "cell_type": "markdown",
   "id": "35b70aaa",
   "metadata": {},
   "source": [
    "# 📌 Objectives\n",
    "\n",
    "By the end of this notebook, students will be able to:\n",
    "\n",
    "1. **Perform Semantic Search with Metadata Filtering:**\n",
    "   - Query the provided FAISS vector store to retrieve relevant financial news articles based on natural language questions.\n",
    "   - Apply optional filters using metadata such as ticker or publication date to refine search results.\n",
    "\n",
    "2. **Enrich Data with Company Metadata:**\n",
    "   - Use the `yfinance` library to retrieve company-level metadata (company name, sector, industry) for tickers in the dataset.\n",
    "   - Integrate this metadata to support enhanced filtering and analysis of news data.\n",
    "\n",
    "3. **Build a Retrieval-Augmented Generation (RAG) Pipeline:**\n",
    "   - Combine retrieved news snippets as context to generate answers using OpenAI’s GPT models.\n",
    "   - Construct effective prompts that guide the language model to provide concise, context-aware responses.\n",
    "\n",
    "4. **Evaluate and Analyze RAG Outputs:**\n",
    "   - Review generated answers alongside the supporting news excerpts.\n",
    "   - Reflect on the strengths and limitations of the simple RAG pipeline and consider potential improvements, such as adding more filters or refining retrieval strategies.\n",
    "\n",
    "5. **Incorporate Financial Metadata into Retrieval Context:**\n",
    "   - Enrich retrieved news snippets with key financial metadata including ticker, company name, sector, and industry.\n",
    "   - Format prompts that combine both text excerpts and metadata to provide richer context to the language model.\n",
    "\n",
    "6. **Generate Context-Aware Answers Using OpenAI Models:**\n",
    "   - Construct and send prompts to an LLM that leverage both news content and metadata to produce concise, informed financial analysis.\n",
    "\n",
    "7. **Compare Answers With and Without Metadata:**\n",
    "   - Evaluate the impact of including financial metadata on answer quality using criteria such as clarity, detail, accuracy, and contextual relevance.\n",
    "   - Summarize findings to reflect on the role of metadata in improving retrieval-augmented generation."
   ]
  },
  {
   "cell_type": "markdown",
   "id": "c1034130",
   "metadata": {},
   "source": [
    "## Install and Import important librairies\n",
    "\n",
    "First, we install and import the necessary libraries for:\n",
    "- Text embedding generation (sentence-transformers)\n",
    "- Efficient similarity search (faiss)\n",
    "- Data manipulation (pandas, numpy)\n",
    "- Visualization (matplotlib)\n",
    "\n",
    "> ℹ️ FAISS uses inner product for cosine similarity by normalizing vectors."
   ]
  },
  {
   "cell_type": "code",
   "execution_count": 30,
   "id": "a979a47f",
   "metadata": {},
   "outputs": [
    {
     "name": "stdout",
     "output_type": "stream",
     "text": [
      "Requirement already satisfied: sentence-transformers in c:\\users\\esteb\\anaconda3\\lib\\site-packages (5.0.0)Note: you may need to restart the kernel to use updated packages.\n",
      "\n",
      "Requirement already satisfied: transformers<5.0.0,>=4.41.0 in c:\\users\\esteb\\anaconda3\\lib\\site-packages (from sentence-transformers) (4.52.4)\n",
      "Requirement already satisfied: tqdm in c:\\users\\esteb\\anaconda3\\lib\\site-packages (from sentence-transformers) (4.66.5)\n",
      "Requirement already satisfied: torch>=1.11.0 in c:\\users\\esteb\\anaconda3\\lib\\site-packages (from sentence-transformers) (2.7.1+cu118)\n",
      "Requirement already satisfied: scikit-learn in c:\\users\\esteb\\anaconda3\\lib\\site-packages (from sentence-transformers) (1.5.1)\n",
      "Requirement already satisfied: scipy in c:\\users\\esteb\\anaconda3\\lib\\site-packages (from sentence-transformers) (1.13.1)\n",
      "Requirement already satisfied: huggingface-hub>=0.20.0 in c:\\users\\esteb\\anaconda3\\lib\\site-packages (from sentence-transformers) (0.33.0)\n",
      "Requirement already satisfied: Pillow in c:\\users\\esteb\\anaconda3\\lib\\site-packages (from sentence-transformers) (10.4.0)\n",
      "Requirement already satisfied: typing_extensions>=4.5.0 in c:\\users\\esteb\\anaconda3\\lib\\site-packages (from sentence-transformers) (4.11.0)\n",
      "Requirement already satisfied: filelock in c:\\users\\esteb\\anaconda3\\lib\\site-packages (from huggingface-hub>=0.20.0->sentence-transformers) (3.13.1)\n",
      "Requirement already satisfied: fsspec>=2023.5.0 in c:\\users\\esteb\\anaconda3\\lib\\site-packages (from huggingface-hub>=0.20.0->sentence-transformers) (2024.6.1)\n",
      "Requirement already satisfied: packaging>=20.9 in c:\\users\\esteb\\anaconda3\\lib\\site-packages (from huggingface-hub>=0.20.0->sentence-transformers) (24.1)\n",
      "Requirement already satisfied: pyyaml>=5.1 in c:\\users\\esteb\\anaconda3\\lib\\site-packages (from huggingface-hub>=0.20.0->sentence-transformers) (6.0.1)\n",
      "Requirement already satisfied: requests in c:\\users\\esteb\\anaconda3\\lib\\site-packages (from huggingface-hub>=0.20.0->sentence-transformers) (2.32.3)\n",
      "Requirement already satisfied: sympy>=1.13.3 in c:\\users\\esteb\\anaconda3\\lib\\site-packages (from torch>=1.11.0->sentence-transformers) (1.14.0)\n",
      "Requirement already satisfied: networkx in c:\\users\\esteb\\anaconda3\\lib\\site-packages (from torch>=1.11.0->sentence-transformers) (3.3)\n",
      "Requirement already satisfied: jinja2 in c:\\users\\esteb\\anaconda3\\lib\\site-packages (from torch>=1.11.0->sentence-transformers) (3.1.4)\n",
      "Requirement already satisfied: setuptools in c:\\users\\esteb\\anaconda3\\lib\\site-packages (from torch>=1.11.0->sentence-transformers) (75.1.0)\n",
      "Requirement already satisfied: colorama in c:\\users\\esteb\\anaconda3\\lib\\site-packages (from tqdm->sentence-transformers) (0.4.6)\n",
      "Requirement already satisfied: numpy>=1.17 in c:\\users\\esteb\\anaconda3\\lib\\site-packages (from transformers<5.0.0,>=4.41.0->sentence-transformers) (1.26.4)\n",
      "Requirement already satisfied: regex!=2019.12.17 in c:\\users\\esteb\\anaconda3\\lib\\site-packages (from transformers<5.0.0,>=4.41.0->sentence-transformers) (2024.9.11)\n",
      "Requirement already satisfied: tokenizers<0.22,>=0.21 in c:\\users\\esteb\\anaconda3\\lib\\site-packages (from transformers<5.0.0,>=4.41.0->sentence-transformers) (0.21.1)\n",
      "Requirement already satisfied: safetensors>=0.4.3 in c:\\users\\esteb\\anaconda3\\lib\\site-packages (from transformers<5.0.0,>=4.41.0->sentence-transformers) (0.5.3)\n",
      "Requirement already satisfied: joblib>=1.2.0 in c:\\users\\esteb\\anaconda3\\lib\\site-packages (from scikit-learn->sentence-transformers) (1.4.2)\n",
      "Requirement already satisfied: threadpoolctl>=3.1.0 in c:\\users\\esteb\\anaconda3\\lib\\site-packages (from scikit-learn->sentence-transformers) (3.5.0)\n",
      "Requirement already satisfied: mpmath<1.4,>=1.1.0 in c:\\users\\esteb\\anaconda3\\lib\\site-packages (from sympy>=1.13.3->torch>=1.11.0->sentence-transformers) (1.3.0)\n",
      "Requirement already satisfied: MarkupSafe>=2.0 in c:\\users\\esteb\\anaconda3\\lib\\site-packages (from jinja2->torch>=1.11.0->sentence-transformers) (2.1.3)\n",
      "Requirement already satisfied: charset-normalizer<4,>=2 in c:\\users\\esteb\\anaconda3\\lib\\site-packages (from requests->huggingface-hub>=0.20.0->sentence-transformers) (3.3.2)\n",
      "Requirement already satisfied: idna<4,>=2.5 in c:\\users\\esteb\\anaconda3\\lib\\site-packages (from requests->huggingface-hub>=0.20.0->sentence-transformers) (3.7)\n",
      "Requirement already satisfied: urllib3<3,>=1.21.1 in c:\\users\\esteb\\anaconda3\\lib\\site-packages (from requests->huggingface-hub>=0.20.0->sentence-transformers) (2.2.3)\n",
      "Requirement already satisfied: certifi>=2017.4.17 in c:\\users\\esteb\\anaconda3\\lib\\site-packages (from requests->huggingface-hub>=0.20.0->sentence-transformers) (2025.1.31)\n",
      "Requirement already satisfied: faiss-cpu in c:\\users\\esteb\\anaconda3\\lib\\site-packages (1.11.0.post1)\n",
      "Requirement already satisfied: numpy<3.0,>=1.25.0 in c:\\users\\esteb\\anaconda3\\lib\\site-packages (from faiss-cpu) (1.26.4)\n",
      "Requirement already satisfied: packaging in c:\\users\\esteb\\anaconda3\\lib\\site-packages (from faiss-cpu) (24.1)\n",
      "Note: you may need to restart the kernel to use updated packages.\n",
      "Requirement already satisfied: openai in c:\\users\\esteb\\anaconda3\\lib\\site-packages (1.78.0)\n",
      "Requirement already satisfied: anyio<5,>=3.5.0 in c:\\users\\esteb\\anaconda3\\lib\\site-packages (from openai) (4.2.0)\n",
      "Requirement already satisfied: distro<2,>=1.7.0 in c:\\users\\esteb\\anaconda3\\lib\\site-packages (from openai) (1.9.0)\n",
      "Requirement already satisfied: httpx<1,>=0.23.0 in c:\\users\\esteb\\anaconda3\\lib\\site-packages (from openai) (0.27.0)\n",
      "Requirement already satisfied: jiter<1,>=0.4.0 in c:\\users\\esteb\\anaconda3\\lib\\site-packages (from openai) (0.9.0)\n",
      "Requirement already satisfied: pydantic<3,>=1.9.0 in c:\\users\\esteb\\anaconda3\\lib\\site-packages (from openai) (2.8.2)\n",
      "Requirement already satisfied: sniffio in c:\\users\\esteb\\anaconda3\\lib\\site-packages (from openai) (1.3.0)\n",
      "Requirement already satisfied: tqdm>4 in c:\\users\\esteb\\anaconda3\\lib\\site-packages (from openai) (4.66.5)\n",
      "Requirement already satisfied: typing-extensions<5,>=4.11 in c:\\users\\esteb\\anaconda3\\lib\\site-packages (from openai) (4.11.0)\n",
      "Requirement already satisfied: idna>=2.8 in c:\\users\\esteb\\anaconda3\\lib\\site-packages (from anyio<5,>=3.5.0->openai) (3.7)\n",
      "Requirement already satisfied: certifi in c:\\users\\esteb\\anaconda3\\lib\\site-packages (from httpx<1,>=0.23.0->openai) (2025.1.31)\n",
      "Requirement already satisfied: httpcore==1.* in c:\\users\\esteb\\anaconda3\\lib\\site-packages (from httpx<1,>=0.23.0->openai) (1.0.2)\n",
      "Requirement already satisfied: h11<0.15,>=0.13 in c:\\users\\esteb\\anaconda3\\lib\\site-packages (from httpcore==1.*->httpx<1,>=0.23.0->openai) (0.14.0)\n",
      "Requirement already satisfied: annotated-types>=0.4.0 in c:\\users\\esteb\\anaconda3\\lib\\site-packages (from pydantic<3,>=1.9.0->openai) (0.6.0)\n",
      "Requirement already satisfied: pydantic-core==2.20.1 in c:\\users\\esteb\\anaconda3\\lib\\site-packages (from pydantic<3,>=1.9.0->openai) (2.20.1)\n",
      "Requirement already satisfied: colorama in c:\\users\\esteb\\anaconda3\\lib\\site-packages (from tqdm>4->openai) (0.4.6)\n",
      "Note: you may need to restart the kernel to use updated packages.\n"
     ]
    }
   ],
   "source": [
    "%pip install sentence-transformers\n",
    "%pip install faiss-cpu\n",
    "%pip install openai"
   ]
  },
  {
   "cell_type": "code",
   "execution_count": 31,
   "id": "6b9f8680",
   "metadata": {},
   "outputs": [],
   "source": [
    "from sentence_transformers import SentenceTransformer\n",
    "import faiss\n",
    "import pandas as pd\n",
    "import numpy as np\n",
    "from sklearn.metrics.pairwise import cosine_similarity\n",
    "from collections import Counter\n",
    "import matplotlib.pyplot as plt\n",
    "import faiss"
   ]
  },
  {
   "cell_type": "markdown",
   "id": "9850dbaa",
   "metadata": {},
   "source": [
    "## Load news data\n",
    "We load a CSV file of financial news, focusing on TITLE and SUMMARY, along with metadata like TICKER and PUBLICATION_DATE.\n",
    "These will be embedded into vectors and used for semantic retrieval."
   ]
  },
  {
   "cell_type": "code",
   "execution_count": 32,
   "id": "a090ca1c",
   "metadata": {},
   "outputs": [],
   "source": [
    "K = 25"
   ]
  },
  {
   "cell_type": "code",
   "execution_count": 33,
   "id": "2e00999d",
   "metadata": {},
   "outputs": [
    {
     "data": {
      "text/html": [
       "<div>\n",
       "<style scoped>\n",
       "    .dataframe tbody tr th:only-of-type {\n",
       "        vertical-align: middle;\n",
       "    }\n",
       "\n",
       "    .dataframe tbody tr th {\n",
       "        vertical-align: top;\n",
       "    }\n",
       "\n",
       "    .dataframe thead th {\n",
       "        text-align: right;\n",
       "    }\n",
       "</style>\n",
       "<table border=\"1\" class=\"dataframe\">\n",
       "  <thead>\n",
       "    <tr style=\"text-align: right;\">\n",
       "      <th></th>\n",
       "      <th>TICKER</th>\n",
       "      <th>TITLE</th>\n",
       "      <th>SUMMARY</th>\n",
       "      <th>PUBLICATION_DATE</th>\n",
       "      <th>PROVIDER</th>\n",
       "      <th>URL</th>\n",
       "    </tr>\n",
       "  </thead>\n",
       "  <tbody>\n",
       "    <tr>\n",
       "      <th>0</th>\n",
       "      <td>MMM</td>\n",
       "      <td>2 Dow Jones Stocks with Promising Prospects an...</td>\n",
       "      <td>The Dow Jones (^DJI) is made up of 30 of the m...</td>\n",
       "      <td>2025-05-29</td>\n",
       "      <td>StockStory</td>\n",
       "      <td>https://finance.yahoo.com/news/2-dow-jones-sto...</td>\n",
       "    </tr>\n",
       "    <tr>\n",
       "      <th>1</th>\n",
       "      <td>MMM</td>\n",
       "      <td>3 S&amp;P 500 Stocks Skating on Thin Ice</td>\n",
       "      <td>The S&amp;P 500 (^GSPC) is often seen as a benchma...</td>\n",
       "      <td>2025-05-27</td>\n",
       "      <td>StockStory</td>\n",
       "      <td>https://finance.yahoo.com/news/3-p-500-stocks-...</td>\n",
       "    </tr>\n",
       "    <tr>\n",
       "      <th>2</th>\n",
       "      <td>MMM</td>\n",
       "      <td>3M Rises 15.8% YTD: Should You Buy the Stock N...</td>\n",
       "      <td>MMM is making strides in the aerospace, indust...</td>\n",
       "      <td>2025-05-22</td>\n",
       "      <td>Zacks</td>\n",
       "      <td>https://finance.yahoo.com/news/3m-rises-15-8-y...</td>\n",
       "    </tr>\n",
       "    <tr>\n",
       "      <th>3</th>\n",
       "      <td>MMM</td>\n",
       "      <td>Q1 Earnings Roundup: 3M (NYSE:MMM) And The Res...</td>\n",
       "      <td>Quarterly earnings results are a good time to ...</td>\n",
       "      <td>2025-05-22</td>\n",
       "      <td>StockStory</td>\n",
       "      <td>https://finance.yahoo.com/news/q1-earnings-rou...</td>\n",
       "    </tr>\n",
       "    <tr>\n",
       "      <th>4</th>\n",
       "      <td>MMM</td>\n",
       "      <td>3 Cash-Producing Stocks with Questionable Fund...</td>\n",
       "      <td>While strong cash flow is a key indicator of s...</td>\n",
       "      <td>2025-05-19</td>\n",
       "      <td>StockStory</td>\n",
       "      <td>https://finance.yahoo.com/news/3-cash-producin...</td>\n",
       "    </tr>\n",
       "    <tr>\n",
       "      <th>...</th>\n",
       "      <td>...</td>\n",
       "      <td>...</td>\n",
       "      <td>...</td>\n",
       "      <td>...</td>\n",
       "      <td>...</td>\n",
       "      <td>...</td>\n",
       "    </tr>\n",
       "    <tr>\n",
       "      <th>4866</th>\n",
       "      <td>ZTS</td>\n",
       "      <td>2 Dividend Stocks to Buy With $500 and Hold Fo...</td>\n",
       "      <td>Zoetis is a leading animal health company with...</td>\n",
       "      <td>2025-05-23</td>\n",
       "      <td>Motley Fool</td>\n",
       "      <td>https://www.fool.com/investing/2025/05/23/2-di...</td>\n",
       "    </tr>\n",
       "    <tr>\n",
       "      <th>4867</th>\n",
       "      <td>ZTS</td>\n",
       "      <td>Zoetis (NYSE:ZTS) Declares US$0.50 Dividend Pe...</td>\n",
       "      <td>Zoetis (NYSE:ZTS) recently affirmed a dividend...</td>\n",
       "      <td>2025-05-22</td>\n",
       "      <td>Simply Wall St.</td>\n",
       "      <td>https://finance.yahoo.com/news/zoetis-nyse-zts...</td>\n",
       "    </tr>\n",
       "    <tr>\n",
       "      <th>4868</th>\n",
       "      <td>ZTS</td>\n",
       "      <td>Jim Cramer on Zoetis (ZTS): “It Does Seem to B...</td>\n",
       "      <td>We recently published a list of Jim Cramer Tal...</td>\n",
       "      <td>2025-05-21</td>\n",
       "      <td>Insider Monkey</td>\n",
       "      <td>https://finance.yahoo.com/news/jim-cramer-zoet...</td>\n",
       "    </tr>\n",
       "    <tr>\n",
       "      <th>4869</th>\n",
       "      <td>ZTS</td>\n",
       "      <td>Zoetis (ZTS) Upgraded to Buy: Here's Why</td>\n",
       "      <td>Zoetis (ZTS) might move higher on growing opti...</td>\n",
       "      <td>2025-05-21</td>\n",
       "      <td>Zacks</td>\n",
       "      <td>https://finance.yahoo.com/news/zoetis-zts-upgr...</td>\n",
       "    </tr>\n",
       "    <tr>\n",
       "      <th>4870</th>\n",
       "      <td>ZTS</td>\n",
       "      <td>ZTS Q1 Earnings Call: Guidance Raised as Platf...</td>\n",
       "      <td>Animal health company Zoetis (NYSE:ZTS) report...</td>\n",
       "      <td>2025-05-19</td>\n",
       "      <td>StockStory</td>\n",
       "      <td>https://finance.yahoo.com/news/zts-q1-earnings...</td>\n",
       "    </tr>\n",
       "  </tbody>\n",
       "</table>\n",
       "<p>4871 rows × 6 columns</p>\n",
       "</div>"
      ],
      "text/plain": [
       "     TICKER                                              TITLE  \\\n",
       "0       MMM  2 Dow Jones Stocks with Promising Prospects an...   \n",
       "1       MMM               3 S&P 500 Stocks Skating on Thin Ice   \n",
       "2       MMM  3M Rises 15.8% YTD: Should You Buy the Stock N...   \n",
       "3       MMM  Q1 Earnings Roundup: 3M (NYSE:MMM) And The Res...   \n",
       "4       MMM  3 Cash-Producing Stocks with Questionable Fund...   \n",
       "...     ...                                                ...   \n",
       "4866    ZTS  2 Dividend Stocks to Buy With $500 and Hold Fo...   \n",
       "4867    ZTS  Zoetis (NYSE:ZTS) Declares US$0.50 Dividend Pe...   \n",
       "4868    ZTS  Jim Cramer on Zoetis (ZTS): “It Does Seem to B...   \n",
       "4869    ZTS           Zoetis (ZTS) Upgraded to Buy: Here's Why   \n",
       "4870    ZTS  ZTS Q1 Earnings Call: Guidance Raised as Platf...   \n",
       "\n",
       "                                                SUMMARY PUBLICATION_DATE  \\\n",
       "0     The Dow Jones (^DJI) is made up of 30 of the m...       2025-05-29   \n",
       "1     The S&P 500 (^GSPC) is often seen as a benchma...       2025-05-27   \n",
       "2     MMM is making strides in the aerospace, indust...       2025-05-22   \n",
       "3     Quarterly earnings results are a good time to ...       2025-05-22   \n",
       "4     While strong cash flow is a key indicator of s...       2025-05-19   \n",
       "...                                                 ...              ...   \n",
       "4866  Zoetis is a leading animal health company with...       2025-05-23   \n",
       "4867  Zoetis (NYSE:ZTS) recently affirmed a dividend...       2025-05-22   \n",
       "4868  We recently published a list of Jim Cramer Tal...       2025-05-21   \n",
       "4869  Zoetis (ZTS) might move higher on growing opti...       2025-05-21   \n",
       "4870  Animal health company Zoetis (NYSE:ZTS) report...       2025-05-19   \n",
       "\n",
       "             PROVIDER                                                URL  \n",
       "0          StockStory  https://finance.yahoo.com/news/2-dow-jones-sto...  \n",
       "1          StockStory  https://finance.yahoo.com/news/3-p-500-stocks-...  \n",
       "2               Zacks  https://finance.yahoo.com/news/3m-rises-15-8-y...  \n",
       "3          StockStory  https://finance.yahoo.com/news/q1-earnings-rou...  \n",
       "4          StockStory  https://finance.yahoo.com/news/3-cash-producin...  \n",
       "...               ...                                                ...  \n",
       "4866      Motley Fool  https://www.fool.com/investing/2025/05/23/2-di...  \n",
       "4867  Simply Wall St.  https://finance.yahoo.com/news/zoetis-nyse-zts...  \n",
       "4868   Insider Monkey  https://finance.yahoo.com/news/jim-cramer-zoet...  \n",
       "4869            Zacks  https://finance.yahoo.com/news/zoetis-zts-upgr...  \n",
       "4870       StockStory  https://finance.yahoo.com/news/zts-q1-earnings...  \n",
       "\n",
       "[4871 rows x 6 columns]"
      ]
     },
     "metadata": {},
     "output_type": "display_data"
    }
   ],
   "source": [
    "df_news = pd.read_csv('df_news.csv')\n",
    "df_news['PUBLICATION_DATE'] = pd.to_datetime(df_news['PUBLICATION_DATE']).dt.date\n",
    "display(df_news)"
   ]
  },
  {
   "cell_type": "code",
   "execution_count": 34,
   "id": "b0983a4a",
   "metadata": {},
   "outputs": [],
   "source": [
    "df_news['EMBEDDED_TEXT'] = df_news['TITLE'] + ' : ' + df_news['SUMMARY']"
   ]
  },
  {
   "cell_type": "code",
   "execution_count": 35,
   "id": "24f6c6e7",
   "metadata": {},
   "outputs": [],
   "source": [
    "model = SentenceTransformer('all-MiniLM-L6-v2')"
   ]
  },
  {
   "cell_type": "markdown",
   "id": "67c301aa",
   "metadata": {},
   "source": [
    "## Implement FAISS vector store\n",
    "We:\n",
    "- Use a pre-trained sentence transformer (all-MiniLM-L6-v2) to embed documents.\n",
    "- Normalize vectors to use cosine similarity.\n",
    "- Create a FAISS index and implement a basic search function.\n",
    "\n",
    "This will allow us to retrieve relevant news snippets given a natural language question.\n",
    " "
   ]
  },
  {
   "cell_type": "code",
   "execution_count": 36,
   "id": "607624fc",
   "metadata": {},
   "outputs": [],
   "source": [
    "# Load model and compute embeddings\n",
    "text_embeddings = model.encode(df_news['EMBEDDED_TEXT'].tolist(), convert_to_numpy=True)\n",
    "\n",
    "# Normalize embeddings to use cosine similarity (via inner product in FAISS)\n",
    "text_embeddings = text_embeddings / np.linalg.norm(text_embeddings, axis=1, keepdims=True)\n",
    "\n",
    "# Prepare metadata\n",
    "documents = df_news['EMBEDDED_TEXT'].tolist()\n",
    "metadata = [\n",
    "    {\n",
    "        'PUBLICATION_DATE': row['PUBLICATION_DATE'], \n",
    "        'TICKER': row['TICKER'], \n",
    "        'PROVIDER': row['PROVIDER']\n",
    "    }\n",
    "    for _, row in df_news.iterrows()\n",
    "]"
   ]
  },
  {
   "cell_type": "code",
   "execution_count": 37,
   "id": "a54162c2",
   "metadata": {},
   "outputs": [],
   "source": [
    "embedding_dim = text_embeddings.shape[1]\n",
    "faiss_index = faiss.IndexFlatIP(embedding_dim)  # Cosine similarity via inner product\n",
    "faiss_index.add(text_embeddings)"
   ]
  },
  {
   "cell_type": "code",
   "execution_count": 38,
   "id": "a6f85fd7",
   "metadata": {},
   "outputs": [],
   "source": [
    "class FaissVectorStore:\n",
    "    def __init__(self, model, index, embeddings, documents, metadata):\n",
    "        self.model = model\n",
    "        self.index = index\n",
    "        self.embeddings = embeddings\n",
    "        self.documents = documents\n",
    "        self.metadata = metadata\n",
    "\n",
    "    def search(self, query, k=5, metadata_filter=None):\n",
    "        query_embedding = self.model.encode([query])\n",
    "        query_embedding = query_embedding / np.linalg.norm(query_embedding)\n",
    "\n",
    "        if metadata_filter:\n",
    "            filtered_indices = [i for i, meta in enumerate(self.metadata) if metadata_filter(meta)]\n",
    "            if not filtered_indices:\n",
    "                return []\n",
    "            filtered_embeddings = self.embeddings[filtered_indices]\n",
    "            temp_index = faiss.IndexFlatIP(filtered_embeddings.shape[1])\n",
    "            temp_index.add(filtered_embeddings)\n",
    "            D, I = temp_index.search(query_embedding, k)\n",
    "            indices = [filtered_indices[i] for i in I[0]]\n",
    "        else:\n",
    "            D, I = self.index.search(query_embedding, k)\n",
    "            indices = I[0]\n",
    "            D = D[0]\n",
    "\n",
    "        results = []\n",
    "        for idx, sim in zip(indices, D):\n",
    "            results.append((self.documents[idx], self.metadata[idx], float(sim)))\n",
    "        return results"
   ]
  },
  {
   "cell_type": "code",
   "execution_count": 39,
   "id": "5c3e256d",
   "metadata": {},
   "outputs": [],
   "source": [
    "# Create FAISS-based store\n",
    "faiss_store = FaissVectorStore(\n",
    "    model=model,\n",
    "    index=faiss_index,\n",
    "    embeddings=text_embeddings,\n",
    "    documents=documents,\n",
    "    metadata=metadata\n",
    ")"
   ]
  },
  {
   "cell_type": "markdown",
   "id": "40c40d71",
   "metadata": {},
   "source": [
    "### Setup OpenAI Client\n",
    "\n",
    "👉 **Instructions**:\n",
    "- Import the `OpenAI` client from the `openai` Python library.\n",
    "- You will need an **OpenAI API key** to use their models programmatically:\n",
    "  - Go to [https://platform.openai.com/](https://platform.openai.com/) and sign up or log in.\n",
    "  - Create an API key from your [API keys dashboard](https://platform.openai.com/account/api-keys).\n",
    "  - ⚠️ **Keep your API key private** and **do not** share or hardcode it in public notebooks.\n",
    "- Note that **usage of the OpenAI API is not free**. You will need to:\n",
    "  - Add a payment method.\n",
    "  - Monitor your usage to avoid unexpected charges.\n",
    "  - Optionally set usage limits from your account settings.\n",
    "- You can refer to the **course’s Study Resources** for a step-by-step guide on creating an OpenAI account and retrieving your API key.\n",
    "\n",
    "Then:\n",
    "- Initialize the client with `OpenAI(api_key=\"YOUR_KEY_HERE\")`.\n",
    "- Send a test request using `.responses.create()` and the `\"gpt-4o-mini\"` model with a simple prompt:\n",
    "\n",
    "  ```python\n",
    "  response = client.responses.create(\n",
    "      model=\"gpt-4o-mini\",\n",
    "      input=\"Write a one-sentence bedtime story about a unicorn.\"\n",
    "  )\n",
    "  print(response.output_text)\n"
   ]
  },
  {
   "cell_type": "code",
   "execution_count": 40,
   "id": "bb8e09c7",
   "metadata": {},
   "outputs": [
    {
     "name": "stdout",
     "output_type": "stream",
     "text": [
      "As the moonlight shimmered through the enchanted forest, Luna the unicorn twirled with joy, knowing that her dreams of spreading magic would soon come true, bringing happiness to all who believed.\n"
     ]
    }
   ],
   "source": [
    "#IMPORT AND INITIALIZE OPENAI CLIENT\n",
    "\n",
    "from openai import OpenAI\n",
    "from sk import my_sk   # IMPORT SECRET KEY FROM sk.py FILE\n",
    "\n",
    "client = OpenAI(api_key=my_sk)\n",
    "\n",
    "response = client.chat.completions.create(\n",
    "    model=\"gpt-4o-mini\",\n",
    "    messages=[{\"role\": \"user\", \"content\": \"Write a one-sentence bedtime story about a unicorn.\"}]\n",
    ")\n",
    "\n",
    "print(response.choices[0].message.content)"
   ]
  },
  {
   "cell_type": "markdown",
   "id": "15b1a560",
   "metadata": {},
   "source": [
    "## Retrieve Additional Metadata from Yahoo Finance\n",
    "\n",
    "👉 **Instructions**:\n",
    "- We will enrich our news dataset by retrieving **company-level metadata** using the `yfinance` library.\n",
    "- The goal is to map each unique stock ticker (`TICKER`) in the dataset to:\n",
    "  - `COMPANY_NAME`\n",
    "  - `SECTOR`\n",
    "  - `INDUSTRY`\n",
    "\n",
    "> ℹ️ `yfinance` fetches live data from Yahoo Finance. If you're running this in a cloud environment or during peak hours, expect some tickers to fail or rate limits to apply.\n",
    "\n",
    "✅ After this step, you will have a new DataFrame (e.g. `df_meta`) with the columns `TICKER`, `COMPANY_NAME`, `SECTOR`, `INDUSTRY` that maps tickers to their company names, sectors, and industries. This metadata will be useful later to add filters and analysis based on sector or industry categories.\n"
   ]
  },
  {
   "cell_type": "code",
   "execution_count": 41,
   "id": "57d90b86",
   "metadata": {},
   "outputs": [
    {
     "data": {
      "text/html": [
       "<div>\n",
       "<style scoped>\n",
       "    .dataframe tbody tr th:only-of-type {\n",
       "        vertical-align: middle;\n",
       "    }\n",
       "\n",
       "    .dataframe tbody tr th {\n",
       "        vertical-align: top;\n",
       "    }\n",
       "\n",
       "    .dataframe thead th {\n",
       "        text-align: right;\n",
       "    }\n",
       "</style>\n",
       "<table border=\"1\" class=\"dataframe\">\n",
       "  <thead>\n",
       "    <tr style=\"text-align: right;\">\n",
       "      <th></th>\n",
       "      <th>TICKER</th>\n",
       "      <th>COMPANY_NAME</th>\n",
       "      <th>SECTOR</th>\n",
       "      <th>INDUSTRY</th>\n",
       "    </tr>\n",
       "  </thead>\n",
       "  <tbody>\n",
       "    <tr>\n",
       "      <th>0</th>\n",
       "      <td>MMM</td>\n",
       "      <td>3M Company</td>\n",
       "      <td>Industrials</td>\n",
       "      <td>Conglomerates</td>\n",
       "    </tr>\n",
       "    <tr>\n",
       "      <th>1</th>\n",
       "      <td>AOS</td>\n",
       "      <td>A. O. Smith Corporation</td>\n",
       "      <td>Industrials</td>\n",
       "      <td>Specialty Industrial Machinery</td>\n",
       "    </tr>\n",
       "    <tr>\n",
       "      <th>2</th>\n",
       "      <td>ABT</td>\n",
       "      <td>Abbott Laboratories</td>\n",
       "      <td>Healthcare</td>\n",
       "      <td>Medical Devices</td>\n",
       "    </tr>\n",
       "    <tr>\n",
       "      <th>3</th>\n",
       "      <td>ABBV</td>\n",
       "      <td>AbbVie Inc.</td>\n",
       "      <td>Healthcare</td>\n",
       "      <td>Drug Manufacturers - General</td>\n",
       "    </tr>\n",
       "    <tr>\n",
       "      <th>4</th>\n",
       "      <td>ACN</td>\n",
       "      <td>Accenture plc</td>\n",
       "      <td>Technology</td>\n",
       "      <td>Information Technology Services</td>\n",
       "    </tr>\n",
       "  </tbody>\n",
       "</table>\n",
       "</div>"
      ],
      "text/plain": [
       "  TICKER             COMPANY_NAME       SECTOR  \\\n",
       "0    MMM               3M Company  Industrials   \n",
       "1    AOS  A. O. Smith Corporation  Industrials   \n",
       "2    ABT      Abbott Laboratories   Healthcare   \n",
       "3   ABBV              AbbVie Inc.   Healthcare   \n",
       "4    ACN            Accenture plc   Technology   \n",
       "\n",
       "                          INDUSTRY  \n",
       "0                    Conglomerates  \n",
       "1   Specialty Industrial Machinery  \n",
       "2                  Medical Devices  \n",
       "3     Drug Manufacturers - General  \n",
       "4  Information Technology Services  "
      ]
     },
     "metadata": {},
     "output_type": "display_data"
    }
   ],
   "source": [
    "import yfinance as yf\n",
    "import time\n",
    "\n",
    "# TICKERS FROM NEWS DATASET\n",
    "tickers = df_news['TICKER'].dropna().unique().tolist()\n",
    "meta_data = []\n",
    "\n",
    "for ticker in tickers:\n",
    "    try:\n",
    "        company = yf.Ticker(ticker)\n",
    "        info = company.info\n",
    "\n",
    "        meta_data.append({\n",
    "            'TICKER': ticker,\n",
    "            'COMPANY_NAME': info.get('longName', 'N/A'),\n",
    "            'SECTOR': info.get('sector', 'N/A'),\n",
    "            'INDUSTRY': info.get('industry', 'N/A')\n",
    "        })\n",
    "    except Exception as e:\n",
    "        print(f\"[ERROR] {ticker}: {e}\")\n",
    "        meta_data.append({\n",
    "            'TICKER': ticker,\n",
    "            'COMPANY_NAME': 'N/A',\n",
    "            'SECTOR': 'N/A',\n",
    "            'INDUSTRY': 'N/A'\n",
    "        })\n",
    "\n",
    "    # FOR GOOOD LUCK\n",
    "    time.sleep(0.1)\n",
    "\n",
    "df_meta = pd.DataFrame(meta_data)\n",
    "display(df_meta.head())"
   ]
  },
  {
   "cell_type": "markdown",
   "id": "f1cb5429",
   "metadata": {},
   "source": [
    "## Retrieval-Augmented Generation (RAG): Retrieve Documents and Generate Answers\n",
    "\n",
    "👉 **Instructions**:\n",
    "\n",
    "In this part of the assignment, your task is to build a simple Retrieval-Augmented Generation (RAG) pipeline that:\n",
    "\n",
    "- Takes a user question as input.\n",
    "- Searches the FAISS vector store to find a set of relevant financial news articles based on semantic similarity.\n",
    "- Uses the retrieved news articles as context to generate a clear, concise answer to the question by interacting with the OpenAI language model.\n",
    "- Returns both the generated answer and the underlying news snippets used for context.\n",
    "\n",
    "### What you need to focus on:\n",
    "\n",
    "- Implement a retrieval mechanism to query your vector store and obtain the top relevant documents for any question.\n",
    "- Construct prompts that effectively combine retrieved news content with the user’s question to guide the language model’s response.\n",
    "- Use the OpenAI API to generate answers grounded in the retrieved context.\n",
    "- Organize the outputs so that for each question, you have:\n",
    "  - The generated answer.\n",
    "  - The collection of news excerpts used to produce that answer.\n",
    "\n",
    "### What you will be provided:\n",
    "\n",
    "- Helper functions to display outputs in markdown format.\n",
    "- Lists of example questions covering topics, companies, and industries to test your implementation.\n",
    "\n",
    "---\n",
    "\n",
    "Your solution can take any form or structure you find appropriate, as long as it fulfills these core objectives. This exercise will give you hands-on experience with integrating retrieval and generation for practical applications in finance.\n"
   ]
  },
  {
   "cell_type": "markdown",
   "id": "aa99a272",
   "metadata": {},
   "source": [
    "#### Print markdown\n",
    "You can use the following function to print answers from GPT4o-mini in markdown."
   ]
  },
  {
   "cell_type": "code",
   "execution_count": 42,
   "id": "9165af0a",
   "metadata": {},
   "outputs": [],
   "source": [
    "from IPython.display import Markdown, display\n",
    "\n",
    "def print_markdown(text):\n",
    "    display(Markdown(text))"
   ]
  },
  {
   "cell_type": "code",
   "execution_count": 43,
   "id": "cdeef01b",
   "metadata": {},
   "outputs": [],
   "source": [
    "#MERGE DF_NEWS WITH DF_META\n",
    "#df_news = df_news.merge(df_meta, on='TICKER', how='left')"
   ]
  },
  {
   "cell_type": "code",
   "execution_count": 44,
   "id": "aab38cc4",
   "metadata": {},
   "outputs": [],
   "source": [
    "#RAG (TAKES THE USER QUESTION AS INPUT)\n",
    "\n",
    "def rag_query_pipeline(question, vector_store, client, k=5, model=\"gpt-4o-mini\"):\n",
    "    \n",
    "    #Searches the FAISS vector store to find a set of relevant financial news articles based on semantic similarity.\n",
    "    retrieved = vector_store.search(question, k=k)\n",
    "\n",
    "    if not retrieved:\n",
    "        return \"There isn't any relevant info.\", []\n",
    "\n",
    "    # Uses the retrieved news articles as context to generate a clear, concise answer to the question by interacting with the OpenAI language model.\n",
    "    # SNIPPET COMBINE FOR CONTEXT\n",
    "    context_snippets = [doc for doc, _, _ in retrieved]\n",
    "    context_text = \"\\n\\n\".join(f\"- {snippet}\" for snippet in context_snippets)\n",
    "\n",
    "    # PROMPT\n",
    "    prompt = f\"\"\"You are a financial analyst AI. Based on the following news snippets, answer the user's question.\n",
    "\n",
    "### News Context:\n",
    "{context_text}\n",
    "\n",
    "### Question:\n",
    "{question}\n",
    "\n",
    "### Answer (short and precise):\"\"\"\n",
    "\n",
    "    # PROMPT TO AI\n",
    "    response = client.chat.completions.create(model=model,messages=[{\"role\": \"user\", \"content\": prompt}])\n",
    "\n",
    "    answer = response.choices[0].message.content\n",
    "\n",
    "    # Returns both the generated answer and the underlying news snippets used for context.\n",
    "    print_markdown(f\"###**Generated Answer**:\\n{answer}\\n\")\n",
    "    print_markdown(f\"---\\n###**News Context Used**:\\n{context_text}\")\n",
    "\n",
    "    return answer, context_snippets"
   ]
  },
  {
   "cell_type": "markdown",
   "id": "9b4f82b9",
   "metadata": {},
   "source": [
    "#### Predefined questions"
   ]
  },
  {
   "cell_type": "code",
   "execution_count": 45,
   "id": "3f4b75dd",
   "metadata": {},
   "outputs": [],
   "source": [
    "questions_topic = [\n",
    "\"What are the major concerns expressed in financial news about inflation?\",\n",
    "\"How is investor sentiment described in recent financial headlines?\",\n",
    "\"What role is artificial intelligence playing in recent finance-related news stories?\"\n",
    "]\n",
    "\n",
    "questions_company = [\n",
    "\"How is Microsoft being portrayed in news stories about artificial intelligence?\",\n",
    "\"What financial news headlines connect Amazon with automation or logistics?\"\n",
    "]\n",
    "\n",
    "questions_industry = [\n",
    "\"What are the main themes emerging in financial news about the semiconductor industry?\",\n",
    "\"What trends are being reported in the retail industry?\",\n",
    "\"What risks or challenges are discussed in recent news about the energy industry?\"\n",
    "]"
   ]
  },
  {
   "cell_type": "code",
   "execution_count": 46,
   "id": "4ae50eb2",
   "metadata": {},
   "outputs": [
    {
     "data": {
      "text/markdown": [
       "#Category: **Topic-based Questions**"
      ],
      "text/plain": [
       "<IPython.core.display.Markdown object>"
      ]
     },
     "metadata": {},
     "output_type": "display_data"
    },
    {
     "data": {
      "text/markdown": [
       "---\n",
       "##  Q1: What are the major concerns expressed in financial news about inflation?"
      ],
      "text/plain": [
       "<IPython.core.display.Markdown object>"
      ]
     },
     "metadata": {},
     "output_type": "display_data"
    },
    {
     "data": {
      "text/markdown": [
       "###**Generated Answer**:\n",
       "The major concerns regarding inflation highlighted in the financial news include persistent US inflation risks as indicated by the Federal Reserve's May policy meeting, and rising food inflation which is dampening hopes for a rate cut amid ongoing tariff issues.\n"
      ],
      "text/plain": [
       "<IPython.core.display.Markdown object>"
      ]
     },
     "metadata": {},
     "output_type": "display_data"
    },
    {
     "data": {
      "text/markdown": [
       "---\n",
       "###**News Context Used**:\n",
       "- Bitcoin price slips as Fed minutes flag US inflation risks : The Federal Reserve’s May policy meeting revealed mounting concern over persistent US inflation and the potential for economic slowdown.\n",
       "\n",
       "- The Weekend: Food inflation dampens hopes of a rate cut as tariff twists and turns continue : Key moments from the last seven days, plus a glimpse at the week ahead\n",
       "\n",
       "- The Weekend: Food inflation dampens hopes of a rate cut as tariff twists and turns continue : Key moments from the last seven days, plus a glimpse at the week ahead\n",
       "\n",
       "- The Weekend: Food inflation dampens hopes of a rate cut as tariff twists and turns continue : Key moments from the last seven days, plus a glimpse at the week ahead\n",
       "\n",
       "- The Weekend: Food inflation dampens hopes of a rate cut as tariff twists and turns continue : Key moments from the last seven days, plus a glimpse at the week ahead"
      ],
      "text/plain": [
       "<IPython.core.display.Markdown object>"
      ]
     },
     "metadata": {},
     "output_type": "display_data"
    },
    {
     "data": {
      "text/markdown": [
       "---\n",
       "##  Q2: How is investor sentiment described in recent financial headlines?"
      ],
      "text/plain": [
       "<IPython.core.display.Markdown object>"
      ]
     },
     "metadata": {},
     "output_type": "display_data"
    },
    {
     "data": {
      "text/markdown": [
       "###**Generated Answer**:\n",
       "Investor sentiment is described as mixed in recent financial headlines. While there are optimistic forecasts and bullish ratings for several stocks—prompted by positive catalysts and impressive fundamentals—there is also a cautionary tone regarding the reliability of these forecasts due to potential institutional pressures and analysts' reluctance to issue bearish ratings.\n"
      ],
      "text/plain": [
       "<IPython.core.display.Markdown object>"
      ]
     },
     "metadata": {},
     "output_type": "display_data"
    },
    {
     "data": {
      "text/markdown": [
       "---\n",
       "###**News Context Used**:\n",
       "- 3 of Wall Street’s Favorite Stocks Facing Headwinds : Wall Street has set ambitious price targets for the stocks in this article. While this suggests attractive upside potential, it’s important to remain skeptical because analysts face institutional pressures that can sometimes lead to overly optimistic forecasts.\n",
       "\n",
       "- 3 Hyped Up  Stocks Facing Headwinds : Great things are happening to the stocks in this article. They’re all outperforming the market over the last month because of positive catalysts such as a new product line, constructive news flow, or even a loyal Reddit fanbase.\n",
       "\n",
       "- 1 of Wall Street’s Favorite Stock with Impressive Fundamentals and 2 to Think Twice About : The stocks in this article have caught Wall Street’s attention in a big way, with price targets implying returns above 20%. But investors should take these forecasts with a grain of salt because analysts typically say nice things about companies so their firms can win business in other product lines like M&A advisory.\n",
       "\n",
       "- 1 Unpopular Stock that Should Get More Attention and 2 to Steer Clear Of : When Wall Street turns bearish on a stock, it’s worth paying attention. These calls stand out because analysts rarely issue grim ratings on companies for fear their firms will lose out in other business lines such as M&A advisory.\n",
       "\n",
       "- 3 of Wall Street’s Favorite Stocks with Questionable Fundamentals : Wall Street is overwhelmingly bullish on the stocks in this article, with price targets suggesting significant upside potential. However, it’s worth remembering that analysts rarely issue sell ratings, partly because their firms often seek other business from the same companies they cover."
      ],
      "text/plain": [
       "<IPython.core.display.Markdown object>"
      ]
     },
     "metadata": {},
     "output_type": "display_data"
    },
    {
     "data": {
      "text/markdown": [
       "---\n",
       "##  Q3: What role is artificial intelligence playing in recent finance-related news stories?"
      ],
      "text/plain": [
       "<IPython.core.display.Markdown object>"
      ]
     },
     "metadata": {},
     "output_type": "display_data"
    },
    {
     "data": {
      "text/markdown": [
       "###**Generated Answer**:\n",
       "Artificial intelligence is prominently featured in recent finance-related news stories as a transformative technology driving productivity, improving lending processes, and generating attractive returns in various stocks. Companies like Jack Henry, Meta, Palantir, and Upstart are investing heavily in AI applications, with expectations of significant stock price appreciation and enhanced operational capabilities. AI is seen as a key factor influencing valuation and growth potential in the tech and finance sectors.\n"
      ],
      "text/plain": [
       "<IPython.core.display.Markdown object>"
      ]
     },
     "metadata": {},
     "output_type": "display_data"
    },
    {
     "data": {
      "text/markdown": [
       "---\n",
       "###**News Context Used**:\n",
       "- Jack Henry (JKHY) Integrates AI-Driven Lending Tech With Algebrik : We recently published a list of 12 AI News Investors Should Not Miss This Week. In this article, we are going to take a look at where Jack Henry & Associates, Inc. (NASDAQ:JKHY) stands against other AI news Investors should not miss this week. Artificial Intelligence (AI) is known to increase productivity, decrease human error, […]\n",
       "\n",
       "- This \"Magnificent Seven\" Stock Is Set to Skyrocket If Its AI Investments Pay Off : Meta Platforms has investments in several AI applications.  The tech giant's stock is only valued on its legacy business.  Over the past two-and-a-half years, investors have heard about various artificial intelligence (AI) investments that tech companies are making.\n",
       "\n",
       "- Billionaires Are Buying 2 Artificial Intelligence (AI) Stocks That Wall Street Analysts Say Can Soar Up to 240% : Several billionaire hedge fund managers bought shares of Palantir and/or Upstart in the first quarter -- stocks where certain analysts anticipate substantial upside.  Palantir is successfully tapping demand for artificial intelligence (AI) with government and commercial customers, but the stock trades at a very expensive valuation.  Upstart is generating attractive returns for lenders by helping them quantify credit risk with artificial intelligence, and the stock trades at a very reasonable valuation.\n",
       "\n",
       "- Better Artificial Intelligence (AI) Stock: Palantir vs. Snowflake : Shares of both Palantir and Snowflake have delivered healthy gains in 2025 despite the broader stock market weakness.  Palantir stock has shot up 63% this year despite bouts of volatility.  Palantir Technologies helps commercial and government clients integrate generative AI capabilities into their operations with its Artificial Intelligence Platform (AIP), which was launched roughly two years ago.\n",
       "\n",
       "- 2 Underrated Artificial Intelligence (AI) Stocks to Buy and Hold : Generative AI can simplify and speed up many tasks, including content production.  It's easy to see the potential for Netflix, whose content strategy is integral to its success.  Netflix's creations have attracted millions of viewers and won many awards."
      ],
      "text/plain": [
       "<IPython.core.display.Markdown object>"
      ]
     },
     "metadata": {},
     "output_type": "display_data"
    },
    {
     "data": {
      "text/markdown": [
       "#Category: **Company-based Questions**"
      ],
      "text/plain": [
       "<IPython.core.display.Markdown object>"
      ]
     },
     "metadata": {},
     "output_type": "display_data"
    },
    {
     "data": {
      "text/markdown": [
       "---\n",
       "##  Q1: How is Microsoft being portrayed in news stories about artificial intelligence?"
      ],
      "text/plain": [
       "<IPython.core.display.Markdown object>"
      ]
     },
     "metadata": {},
     "output_type": "display_data"
    },
    {
     "data": {
      "text/markdown": [
       "###**Generated Answer**:\n",
       "The news snippets provided do not mention Microsoft, so there is no portrayal or discussion of Microsoft's involvement in artificial intelligence within the given context.\n"
      ],
      "text/plain": [
       "<IPython.core.display.Markdown object>"
      ]
     },
     "metadata": {},
     "output_type": "display_data"
    },
    {
     "data": {
      "text/markdown": [
       "---\n",
       "###**News Context Used**:\n",
       "- This \"Magnificent Seven\" Stock Is Set to Skyrocket If Its AI Investments Pay Off : Meta Platforms has investments in several AI applications.  The tech giant's stock is only valued on its legacy business.  Over the past two-and-a-half years, investors have heard about various artificial intelligence (AI) investments that tech companies are making.\n",
       "\n",
       "- How Salesforce has 'overcorrected' by leaning into AI : D.A. Davidson head of technology research Gil Luria joins Market Domination to discuss Salesforce (CRM) earnings and the company's trajectory. Luria says Salesforce is \"too focused\" on artificial intelligence (AI), as the other parts of its business \"rapidly\" decelerate and the company loses market share to competitors. Luria has the equivalent of a Sell rating on the stock. To watch more expert insights and analysis on the latest market action, check out more Market Domination here.\n",
       "\n",
       "- Jack Henry (JKHY) Integrates AI-Driven Lending Tech With Algebrik : We recently published a list of 12 AI News Investors Should Not Miss This Week. In this article, we are going to take a look at where Jack Henry & Associates, Inc. (NASDAQ:JKHY) stands against other AI news Investors should not miss this week. Artificial Intelligence (AI) is known to increase productivity, decrease human error, […]\n",
       "\n",
       "- 2 Underrated Artificial Intelligence (AI) Stocks to Buy and Hold : Generative AI can simplify and speed up many tasks, including content production.  It's easy to see the potential for Netflix, whose content strategy is integral to its success.  Netflix's creations have attracted millions of viewers and won many awards.\n",
       "\n",
       "- Meta (META) AI Reaches 1 Billion Users, Eyes Paid Features and Subscriptions : We recently published a list of 10 AI Stocks on Wall Street’s Radar. In this article, we are going to take a look at where Meta Platforms, Inc. (NASDAQ:META) stands against other AI stocks on Wall Street’s radar. Meta Platforms, Inc. (NASDAQ:META) is a global technology company. On May 28, CNBC reported that Meta Platforms, Inc. (NASDAQ:META)’s artificial […]"
      ],
      "text/plain": [
       "<IPython.core.display.Markdown object>"
      ]
     },
     "metadata": {},
     "output_type": "display_data"
    },
    {
     "data": {
      "text/markdown": [
       "---\n",
       "##  Q2: What financial news headlines connect Amazon with automation or logistics?"
      ],
      "text/plain": [
       "<IPython.core.display.Markdown object>"
      ]
     },
     "metadata": {},
     "output_type": "display_data"
    },
    {
     "data": {
      "text/markdown": [
       "###**Generated Answer**:\n",
       "The headlines connecting Amazon with automation or logistics are:\n",
       "\n",
       "1. \"Woodward's Volumes, Automation to Drive Earnings Growth, Truist Says\" - while primarily about Woodward, this suggests a broader context where automation impacts earnings in the logistics sector.\n",
       "2. \"Winners And Losers Of Q1: C.H. Robinson Worldwide (NASDAQ:CHRW) Vs The Rest Of The Air Freight and Logistics Stocks\" - highlights logistics, where Amazon is a significant player. \n",
       "\n",
       "Additionally, mentions of Amazon's AI roadmap imply automation enhancements in delivery and logistics operations.\n"
      ],
      "text/plain": [
       "<IPython.core.display.Markdown object>"
      ]
     },
     "metadata": {},
     "output_type": "display_data"
    },
    {
     "data": {
      "text/markdown": [
       "---\n",
       "###**News Context Used**:\n",
       "- Truist Reiterates Buy on Amazon.com (AMZN) as Q2 Revenue Tracks Ahead : We recently published a list of 10 AI Stocks on Wall Street’s Radar. In this article, we are going to take a look at where Amazon.com Inc. (NASDAQ:AMZN) stands against other AI stocks on Wall Street’s radar. Amazon.com Inc. (NASDAQ:AMZN) is an American technology company offering e-commerce, cloud computing, and other services, including digital streaming […]\n",
       "\n",
       "- Amazon's AI Roadmap With AWS CEO Garman : Every aspect of Amazon is leveraging artificial intelligence, says Matt Garman, CEO of Amazon Web Services. Garman discusses Amazon's AI roadmap and reflects on his first year in the role with Ed Ludlow on \"Bloomberg Technology.\"\n",
       "\n",
       "- Woodward's Volumes, Automation to Drive Earnings Growth, Truist Says : Woodward's (WWD) increasing volumes, pricing, automation, and products will push its aerospace margi\n",
       "\n",
       "- Top Stock Reports for Amazon.com, Johnson & Johnson & Cisco Systems : Today's Research Daily features new research reports on 16 major stocks, including Amazon.com, Inc. (AMZN), Johnson & Johnson (JNJ) and Cisco Systems, Inc. (CSCO), as well as a micro-cap NeurAxis, Inc. (NRXS).\n",
       "\n",
       "- Winners And Losers Of Q1: C.H. Robinson Worldwide (NASDAQ:CHRW) Vs The Rest Of The Air Freight and Logistics Stocks : As the craze of earnings season draws to a close, here’s a look back at some of the most exciting (and some less so) results from Q1. Today, we are looking at air freight and logistics stocks, starting with C.H. Robinson Worldwide (NASDAQ:CHRW)."
      ],
      "text/plain": [
       "<IPython.core.display.Markdown object>"
      ]
     },
     "metadata": {},
     "output_type": "display_data"
    },
    {
     "data": {
      "text/markdown": [
       "#Category: **Industry-based Questions**"
      ],
      "text/plain": [
       "<IPython.core.display.Markdown object>"
      ]
     },
     "metadata": {},
     "output_type": "display_data"
    },
    {
     "data": {
      "text/markdown": [
       "---\n",
       "##  Q1: What are the main themes emerging in financial news about the semiconductor industry?"
      ],
      "text/plain": [
       "<IPython.core.display.Markdown object>"
      ]
     },
     "metadata": {},
     "output_type": "display_data"
    },
    {
     "data": {
      "text/markdown": [
       "###**Generated Answer**:\n",
       "The main themes emerging in financial news about the semiconductor industry include a focus on international revenue trends, investor interest in specific companies like ON Semiconductor Corporation (ON), the impact of earnings performance on shareholder sentiment, and the identification of high-potential stock picks among industry leaders. Additionally, the ongoing assessment of how companies are adapting to the current business environment is highlighted.\n"
      ],
      "text/plain": [
       "<IPython.core.display.Markdown object>"
      ]
     },
     "metadata": {},
     "output_type": "display_data"
    },
    {
     "data": {
      "text/markdown": [
       "---\n",
       "###**News Context Used**:\n",
       "- Investing in ON Semiconductor Corp. (ON)? Don't Miss Assessing Its International Revenue Trends : Explore ON Semiconductor Corp.'s (ON) international revenue trends and how these numbers impact Wall Street's forecasts and what's ahead for the stock.\n",
       "\n",
       "- ON Semiconductor Corporation (ON) is Attracting Investor Attention: Here is What You Should Know : Recently, Zacks.com users have been paying close attention to ON Semiconductor Corp. (ON). This makes it worthwhile to examine what the stock has in store.\n",
       "\n",
       "- Some May Be Optimistic About ON Semiconductor's (NASDAQ:ON) Earnings : Soft earnings didn't appear to concern ON Semiconductor Corporation's ( NASDAQ:ON ) shareholders over the last week...\n",
       "\n",
       "- Spotting Winners: Vishay Intertechnology (NYSE:VSH) And Analog Semiconductors Stocks In Q1 : The end of an earnings season can be a great time to discover new stocks and assess how companies are handling the current business environment. Let’s take a look at how Vishay Intertechnology (NYSE:VSH) and the rest of the analog semiconductors stocks fared in Q1.\n",
       "\n",
       "- ON Semiconductor (ON): Among Billionaire Glenn Russell Dubin’s Stock Picks with Huge Upside Potential : We recently published a list of Billionaire Glenn Russell Dubin’s 10 Stock Picks with Huge Upside Potential. In this article, we are going to take a look at where ON Semiconductor Corporation (NASDAQ:ON) stands against Billionaire Glenn Russell Dubin’s other stock picks with huge upside potential. Glenn Russell Dubin is one of the industry’s most […]"
      ],
      "text/plain": [
       "<IPython.core.display.Markdown object>"
      ]
     },
     "metadata": {},
     "output_type": "display_data"
    },
    {
     "data": {
      "text/markdown": [
       "---\n",
       "##  Q2: What trends are being reported in the retail industry?"
      ],
      "text/plain": [
       "<IPython.core.display.Markdown object>"
      ]
     },
     "metadata": {},
     "output_type": "display_data"
    },
    {
     "data": {
      "text/markdown": [
       "###**Generated Answer**:\n",
       "The retail industry is experiencing volatility in demand and has seen a substantial decline in stock performance, with retail stocks tumbling by 13.7% over the past six months, worse than the S&P 500’s 5.5% loss. Retailers are adjusting their business models in response to technological changes and shifting supply chains due to tariffs. Overall, consumer discretionary businesses are also feeling the impact of economic cycles, with a reported industry drop of 12.3%.\n"
      ],
      "text/plain": [
       "<IPython.core.display.Markdown object>"
      ]
     },
     "metadata": {},
     "output_type": "display_data"
    },
    {
     "data": {
      "text/markdown": [
       "---\n",
       "###**News Context Used**:\n",
       "- 3 Consumer Stocks That Concern Us : Retailers are adapting their business models as technology changes how people shop. Still, demand can be volatile as the industry is exposed to the ups and downs of consumer spending. This has stirred some uncertainty lately as retail stocks have tumbled by 13.7% over the past six months. This performance was worse than the S&P 500’s 5.5% loss.\n",
       "\n",
       "- Retailers, Ducking Trade-War Curveballs, Stick to Their Plans : As legal rulings roll in on Trump’s tariff policies, retail executives say they have shifted their supply chains and many price increases already have hit shelves.\n",
       "\n",
       "- 3 Consumer Stocks Skating on Thin Ice : The performance of consumer discretionary businesses is closely linked to economic cycles. Over the past six months, it seems like demand trends are working against their favor as the industry has tumbled by 12.3%. This drop was significantly worse than the S&P 500’s 2.1% decline.\n",
       "\n",
       "- Packaging Corporation of America (NYSE:PKG) Hasn't Managed To Accelerate Its Returns : What trends should we look for it we want to identify stocks that can multiply in value over the long term? Amongst...\n",
       "\n",
       "- Air Products and Chemicals (NYSE:APD) Will Be Hoping To Turn Its Returns On Capital Around : To find a multi-bagger stock, what are the underlying trends we should look for in a business? Firstly, we'll want to..."
      ],
      "text/plain": [
       "<IPython.core.display.Markdown object>"
      ]
     },
     "metadata": {},
     "output_type": "display_data"
    },
    {
     "data": {
      "text/markdown": [
       "---\n",
       "##  Q3: What risks or challenges are discussed in recent news about the energy industry?"
      ],
      "text/plain": [
       "<IPython.core.display.Markdown object>"
      ]
     },
     "metadata": {},
     "output_type": "display_data"
    },
    {
     "data": {
      "text/markdown": [
       "###**Generated Answer**:\n",
       "Recent news highlights several risks and challenges in the energy industry, particularly for renewable energy stocks facing potential decimation due to a U.S. Congressional bill that could repeal crucial subsidies. Additionally, oilfield service companies like SLB, HAL, and BKR are grappling with declining oil prices, rising tariffs, and shrinking drilling budgets, raising concerns about their future viability.\n"
      ],
      "text/plain": [
       "<IPython.core.display.Markdown object>"
      ]
     },
     "metadata": {},
     "output_type": "display_data"
    },
    {
     "data": {
      "text/markdown": [
       "---\n",
       "###**News Context Used**:\n",
       "- Renewable Energy Stocks Crash as U.S. Advances Bill That Could Decimate the Industry : Congress is pushing forward a bill that could upend the renewable energy industry.  Just as companies have ramped up production and renewable electricity generation in the U.S., those projects may become uneconomical.  The news was about as bad as it could get for renewable energy stocks this week as the U.S. House of Representatives early Thursday passed a bill that will repeal some of the most important subsidies for the industry if it becomes law.\n",
       "\n",
       "- Renewable Energy Stocks Crash as U.S. Advances Bill That Could Decimate the Industry : Congress is pushing forward a bill that could upend the renewable energy industry.  Just as companies have ramped up production and renewable electricity generation in the U.S., those projects may become uneconomical.  The news was about as bad as it could get for renewable energy stocks this week as the U.S. House of Representatives early Thursday passed a bill that will repeal some of the most important subsidies for the industry if it becomes law.\n",
       "\n",
       "- Tariffs, Prices, and Pain: What's Next for Oilfield Service? : The likes of SLB, HAL and BKR face a tough future as oil prices slide, tariffs rise and drilling budgets shrink - can LNG and AI demand offer enough support?\n",
       "\n",
       "- Tariffs, Prices, and Pain: What's Next for Oilfield Service? : The likes of SLB, HAL and BKR face a tough future as oil prices slide, tariffs rise and drilling budgets shrink - can LNG and AI demand offer enough support?\n",
       "\n",
       "- 3 American Companies Investors Need to Know Amid Trump's Tariff Wars : Copper is a critical metal for the U.S. industrial economy.  This American appliance maker expects the Trump administration to close loopholes that will improve its competitive positioning.  It's difficult to predict precisely what the tariff landscape will look like when the dust settles on the trade conflict, but we can say some things with a high degree of certainty."
      ],
      "text/plain": [
       "<IPython.core.display.Markdown object>"
      ]
     },
     "metadata": {},
     "output_type": "display_data"
    }
   ],
   "source": [
    "# FUNCTION TO RESPOND QUERY\n",
    "def run_rag_batch(questions, category, vector_store, client, k=5):\n",
    "    print_markdown(f\"#Category: **{category}**\")\n",
    "\n",
    "    for i, question in enumerate(questions, 1):\n",
    "        print_markdown(f\"---\\n##  Q{i}: {question}\")\n",
    "        rag_query_pipeline(question, vector_store, client, k=k)\n",
    "\n",
    "# Ejecutar cada categoría\n",
    "run_rag_batch(questions_topic, \"Topic-based Questions\", faiss_store, client)\n",
    "run_rag_batch(questions_company, \"Company-based Questions\", faiss_store, client)\n",
    "run_rag_batch(questions_industry, \"Industry-based Questions\", faiss_store, client)"
   ]
  },
  {
   "cell_type": "markdown",
   "id": "ae77df2b",
   "metadata": {},
   "source": [
    "## Analysis & Questions - Section 1"
   ]
  },
  {
   "cell_type": "markdown",
   "id": "3d3a75ee",
   "metadata": {},
   "source": [
    "### Analysis and Reflection on Retrieval and Generation Results\n",
    "After running the RAG pipeline and obtaining answers along with their supporting news excerpts, take some time to carefully review both the generated responses and the retrieved contexts.\n",
    "\n",
    "- **For each question, read the answer and then the corresponding news snippets used as context.**\n",
    "\n",
    "- Reflect on the following points and document your observations:\n",
    "1. **Relevance** \n",
    "2. **Completeness**  \n",
    "3. **Bias or Noise** \n",
    "4. **Consistency**  \n",
    "5. **Improvement Ideas**   \n",
    "\n",
    "and answer the questions below:"
   ]
  },
  {
   "cell_type": "markdown",
   "id": "e8f667ed",
   "metadata": {},
   "source": [
    "#### **Question 1.** How well do the retrieved news snippets support the generated answer? Are the key facts or themes in the answer clearly grounded in the context?"
   ]
  },
  {
   "cell_type": "markdown",
   "id": "992b9fe1",
   "metadata": {},
   "source": [
    "_The news snippets does support the generated answers, the key facts and themes on the context made its way to the anser generated by the LLM model, also, the generated answer its like a resume of the top news snippets retrieved by the FAISS vector store_\n"
   ]
  },
  {
   "cell_type": "markdown",
   "id": "fe09d3d0",
   "metadata": {},
   "source": [
    "#### **Question 2.** Does the answer fully address the question, or does it leave important aspects out? Consider if the retrieved context provided enough information to generate a thorough response."
   ]
  },
  {
   "cell_type": "markdown",
   "id": "736e20f5",
   "metadata": {},
   "source": [
    "_For me the generated answers fully addres certain types of questions, when the question its about something specifis, the generated answer fully addresses the question, however the sentiment like questions pose a greater challenge, specifically in the question_\n",
    "\n",
    "_\"How is investor sentiment described in recent financial headlines?\"_\n",
    "\n",
    "\n",
    "_It is one of the most dificult questions, because the model has to make a consensus with the information of the snippets retrived via FAISS vector store, and because of the broader range of opinions in the news, the generated answer its some vague_"
   ]
  },
  {
   "cell_type": "markdown",
   "id": "a7690337",
   "metadata": {},
   "source": [
    "#### **Question 3.** Are there any irrelevant or misleading snippets retrieved that may have influenced the answer? How might this affect the quality of the output?"
   ]
  },
  {
   "cell_type": "markdown",
   "id": "2513c47c",
   "metadata": {},
   "source": [
    "_There are some irrelevant news retrieves by the FAISS vector store, and this could be attributed to the quality of the embedding model, a larger model creates a more contextualy richer embeddeing, wich by the way, allows to obtain  a more semantic similar results\"_\n",
    "\n",
    "_In the question Q2: What trends are being reported in the retail industry?_\n",
    "\n",
    "_One retrieved news snippet was this:_\n",
    "\n",
    "_\"3 Consumer Stocks Skating on Thin Ice : The performance of consumer discretionary businesses is closely linked to economic cycles. Over the past six months, it seems like demand trends are working against their favor as the industry has tumbled by 12.3%. This drop was significantly worse than the S&P 500’s 2.1% decline.\"_\n",
    "\n",
    "_However Consumer Discretionary and Retail Industry are related, but they arent the same, so in this case this could affect the quality of the output in form of noise_"
   ]
  },
  {
   "cell_type": "markdown",
   "id": "1035b3c6",
   "metadata": {},
   "source": [
    "#### **Question 4.**  Do the news snippets show consistent information, or are there conflicting viewpoints? How does the LLM handle potential contradictions in the context?"
   ]
  },
  {
   "cell_type": "markdown",
   "id": "52891908",
   "metadata": {},
   "source": [
    "_The snippets aparently didn´t show conflicting viewpoints, and the information in the most part was consistent, however, the nature of the stock market it's about uncertainity, so, for some questions where it has to be a consensus, it will be a little bit tricky to the LLM."
   ]
  },
  {
   "cell_type": "markdown",
   "id": "fd7b2d64",
   "metadata": {},
   "source": [
    "#### **Question 5.**  Based on your observations, suggest ways the retrieval or generation process could be improved (e.g., better filtering, adjusting `k`, refining prompt design)."
   ]
  },
  {
   "cell_type": "markdown",
   "id": "350d12cb",
   "metadata": {},
   "source": [
    "_The way the retrieval and the generation process could be improved by bruteforce, since we have analyzing the news wiith an AI tools, the more data we analyze, the better undestanding of the problem we got, also, when we incorporate more infromation, they can appear underlying factors or insights._"
   ]
  },
  {
   "cell_type": "markdown",
   "id": "c08635e8",
   "metadata": {},
   "source": [
    "## 🧠 Retrieval-Augmented Generation (RAG) v2: Adding Financial Metadata to Improve Generation\n",
    "\n",
    "👉 **Instructions**:\n",
    "\n",
    "In this part of the assignment, you’ll enhance your Retrieval-Augmented Generation (RAG) pipeline by incorporating *financial metadata* to provide more contextually rich answers.\n",
    "\n",
    "Your goal is to evaluate whether metadata such as **company name**, **sector**, and **industry** helps the LLM generate **more accurate and grounded answers** to financial questions.\n",
    "\n",
    "---\n",
    "\n",
    "### ✅ What your updated pipeline should do:\n",
    "\n",
    "- Retrieve relevant financial news articles using semantic similarity with FAISS.\n",
    "- Enrich each retrieved document with financial metadata:\n",
    "  - Ticker symbol\n",
    "  - Full company name\n",
    "  - Sector (e.g., Technology, Energy)\n",
    "  - Industry (e.g., Semiconductors, Retail)\n",
    "- Construct prompts that include both:\n",
    "  - Retrieved news text\n",
    "  - Associated metadata\n",
    "- Send the prompt to the OpenAI model to generate an informed response.\n",
    "- Return:\n",
    "  - The final answer\n",
    "  - The exact set of contextual documents used to produce that answer\n",
    "\n",
    "---\n",
    "\n",
    "### 🧪 Evaluation and Comparison:\n",
    "\n",
    "You will test your improved RAG pipeline on the same three types of questions provided earlier:\n",
    "- **Topic-focused** (e.g., inflation, interest rates)\n",
    "- **Company-focused** (e.g., questions about Tesla, Nvidia)\n",
    "- **Industry-focused** (e.g., semiconductors, utilities)\n"
   ]
  },
  {
   "cell_type": "code",
   "execution_count": 47,
   "id": "65a51ada",
   "metadata": {},
   "outputs": [
    {
     "data": {
      "text/html": [
       "<div>\n",
       "<style scoped>\n",
       "    .dataframe tbody tr th:only-of-type {\n",
       "        vertical-align: middle;\n",
       "    }\n",
       "\n",
       "    .dataframe tbody tr th {\n",
       "        vertical-align: top;\n",
       "    }\n",
       "\n",
       "    .dataframe thead th {\n",
       "        text-align: right;\n",
       "    }\n",
       "</style>\n",
       "<table border=\"1\" class=\"dataframe\">\n",
       "  <thead>\n",
       "    <tr style=\"text-align: right;\">\n",
       "      <th></th>\n",
       "      <th>TICKER</th>\n",
       "      <th>TITLE</th>\n",
       "      <th>SUMMARY</th>\n",
       "      <th>PUBLICATION_DATE</th>\n",
       "      <th>PROVIDER</th>\n",
       "      <th>URL</th>\n",
       "      <th>EMBEDDED_TEXT</th>\n",
       "      <th>COMPANY_NAME</th>\n",
       "      <th>SECTOR</th>\n",
       "      <th>INDUSTRY</th>\n",
       "    </tr>\n",
       "  </thead>\n",
       "  <tbody>\n",
       "    <tr>\n",
       "      <th>0</th>\n",
       "      <td>MMM</td>\n",
       "      <td>2 Dow Jones Stocks with Promising Prospects an...</td>\n",
       "      <td>The Dow Jones (^DJI) is made up of 30 of the m...</td>\n",
       "      <td>2025-05-29</td>\n",
       "      <td>StockStory</td>\n",
       "      <td>https://finance.yahoo.com/news/2-dow-jones-sto...</td>\n",
       "      <td>2 Dow Jones Stocks with Promising Prospects an...</td>\n",
       "      <td>3M Company</td>\n",
       "      <td>Industrials</td>\n",
       "      <td>Conglomerates</td>\n",
       "    </tr>\n",
       "    <tr>\n",
       "      <th>1</th>\n",
       "      <td>MMM</td>\n",
       "      <td>3 S&amp;P 500 Stocks Skating on Thin Ice</td>\n",
       "      <td>The S&amp;P 500 (^GSPC) is often seen as a benchma...</td>\n",
       "      <td>2025-05-27</td>\n",
       "      <td>StockStory</td>\n",
       "      <td>https://finance.yahoo.com/news/3-p-500-stocks-...</td>\n",
       "      <td>3 S&amp;P 500 Stocks Skating on Thin Ice : The S&amp;P...</td>\n",
       "      <td>3M Company</td>\n",
       "      <td>Industrials</td>\n",
       "      <td>Conglomerates</td>\n",
       "    </tr>\n",
       "    <tr>\n",
       "      <th>2</th>\n",
       "      <td>MMM</td>\n",
       "      <td>3M Rises 15.8% YTD: Should You Buy the Stock N...</td>\n",
       "      <td>MMM is making strides in the aerospace, indust...</td>\n",
       "      <td>2025-05-22</td>\n",
       "      <td>Zacks</td>\n",
       "      <td>https://finance.yahoo.com/news/3m-rises-15-8-y...</td>\n",
       "      <td>3M Rises 15.8% YTD: Should You Buy the Stock N...</td>\n",
       "      <td>3M Company</td>\n",
       "      <td>Industrials</td>\n",
       "      <td>Conglomerates</td>\n",
       "    </tr>\n",
       "    <tr>\n",
       "      <th>3</th>\n",
       "      <td>MMM</td>\n",
       "      <td>Q1 Earnings Roundup: 3M (NYSE:MMM) And The Res...</td>\n",
       "      <td>Quarterly earnings results are a good time to ...</td>\n",
       "      <td>2025-05-22</td>\n",
       "      <td>StockStory</td>\n",
       "      <td>https://finance.yahoo.com/news/q1-earnings-rou...</td>\n",
       "      <td>Q1 Earnings Roundup: 3M (NYSE:MMM) And The Res...</td>\n",
       "      <td>3M Company</td>\n",
       "      <td>Industrials</td>\n",
       "      <td>Conglomerates</td>\n",
       "    </tr>\n",
       "    <tr>\n",
       "      <th>4</th>\n",
       "      <td>MMM</td>\n",
       "      <td>3 Cash-Producing Stocks with Questionable Fund...</td>\n",
       "      <td>While strong cash flow is a key indicator of s...</td>\n",
       "      <td>2025-05-19</td>\n",
       "      <td>StockStory</td>\n",
       "      <td>https://finance.yahoo.com/news/3-cash-producin...</td>\n",
       "      <td>3 Cash-Producing Stocks with Questionable Fund...</td>\n",
       "      <td>3M Company</td>\n",
       "      <td>Industrials</td>\n",
       "      <td>Conglomerates</td>\n",
       "    </tr>\n",
       "    <tr>\n",
       "      <th>...</th>\n",
       "      <td>...</td>\n",
       "      <td>...</td>\n",
       "      <td>...</td>\n",
       "      <td>...</td>\n",
       "      <td>...</td>\n",
       "      <td>...</td>\n",
       "      <td>...</td>\n",
       "      <td>...</td>\n",
       "      <td>...</td>\n",
       "      <td>...</td>\n",
       "    </tr>\n",
       "    <tr>\n",
       "      <th>4866</th>\n",
       "      <td>ZTS</td>\n",
       "      <td>2 Dividend Stocks to Buy With $500 and Hold Fo...</td>\n",
       "      <td>Zoetis is a leading animal health company with...</td>\n",
       "      <td>2025-05-23</td>\n",
       "      <td>Motley Fool</td>\n",
       "      <td>https://www.fool.com/investing/2025/05/23/2-di...</td>\n",
       "      <td>2 Dividend Stocks to Buy With $500 and Hold Fo...</td>\n",
       "      <td>Zoetis Inc.</td>\n",
       "      <td>Healthcare</td>\n",
       "      <td>Drug Manufacturers - Specialty &amp; Generic</td>\n",
       "    </tr>\n",
       "    <tr>\n",
       "      <th>4867</th>\n",
       "      <td>ZTS</td>\n",
       "      <td>Zoetis (NYSE:ZTS) Declares US$0.50 Dividend Pe...</td>\n",
       "      <td>Zoetis (NYSE:ZTS) recently affirmed a dividend...</td>\n",
       "      <td>2025-05-22</td>\n",
       "      <td>Simply Wall St.</td>\n",
       "      <td>https://finance.yahoo.com/news/zoetis-nyse-zts...</td>\n",
       "      <td>Zoetis (NYSE:ZTS) Declares US$0.50 Dividend Pe...</td>\n",
       "      <td>Zoetis Inc.</td>\n",
       "      <td>Healthcare</td>\n",
       "      <td>Drug Manufacturers - Specialty &amp; Generic</td>\n",
       "    </tr>\n",
       "    <tr>\n",
       "      <th>4868</th>\n",
       "      <td>ZTS</td>\n",
       "      <td>Jim Cramer on Zoetis (ZTS): “It Does Seem to B...</td>\n",
       "      <td>We recently published a list of Jim Cramer Tal...</td>\n",
       "      <td>2025-05-21</td>\n",
       "      <td>Insider Monkey</td>\n",
       "      <td>https://finance.yahoo.com/news/jim-cramer-zoet...</td>\n",
       "      <td>Jim Cramer on Zoetis (ZTS): “It Does Seem to B...</td>\n",
       "      <td>Zoetis Inc.</td>\n",
       "      <td>Healthcare</td>\n",
       "      <td>Drug Manufacturers - Specialty &amp; Generic</td>\n",
       "    </tr>\n",
       "    <tr>\n",
       "      <th>4869</th>\n",
       "      <td>ZTS</td>\n",
       "      <td>Zoetis (ZTS) Upgraded to Buy: Here's Why</td>\n",
       "      <td>Zoetis (ZTS) might move higher on growing opti...</td>\n",
       "      <td>2025-05-21</td>\n",
       "      <td>Zacks</td>\n",
       "      <td>https://finance.yahoo.com/news/zoetis-zts-upgr...</td>\n",
       "      <td>Zoetis (ZTS) Upgraded to Buy: Here's Why : Zoe...</td>\n",
       "      <td>Zoetis Inc.</td>\n",
       "      <td>Healthcare</td>\n",
       "      <td>Drug Manufacturers - Specialty &amp; Generic</td>\n",
       "    </tr>\n",
       "    <tr>\n",
       "      <th>4870</th>\n",
       "      <td>ZTS</td>\n",
       "      <td>ZTS Q1 Earnings Call: Guidance Raised as Platf...</td>\n",
       "      <td>Animal health company Zoetis (NYSE:ZTS) report...</td>\n",
       "      <td>2025-05-19</td>\n",
       "      <td>StockStory</td>\n",
       "      <td>https://finance.yahoo.com/news/zts-q1-earnings...</td>\n",
       "      <td>ZTS Q1 Earnings Call: Guidance Raised as Platf...</td>\n",
       "      <td>Zoetis Inc.</td>\n",
       "      <td>Healthcare</td>\n",
       "      <td>Drug Manufacturers - Specialty &amp; Generic</td>\n",
       "    </tr>\n",
       "  </tbody>\n",
       "</table>\n",
       "<p>4871 rows × 10 columns</p>\n",
       "</div>"
      ],
      "text/plain": [
       "     TICKER                                              TITLE  \\\n",
       "0       MMM  2 Dow Jones Stocks with Promising Prospects an...   \n",
       "1       MMM               3 S&P 500 Stocks Skating on Thin Ice   \n",
       "2       MMM  3M Rises 15.8% YTD: Should You Buy the Stock N...   \n",
       "3       MMM  Q1 Earnings Roundup: 3M (NYSE:MMM) And The Res...   \n",
       "4       MMM  3 Cash-Producing Stocks with Questionable Fund...   \n",
       "...     ...                                                ...   \n",
       "4866    ZTS  2 Dividend Stocks to Buy With $500 and Hold Fo...   \n",
       "4867    ZTS  Zoetis (NYSE:ZTS) Declares US$0.50 Dividend Pe...   \n",
       "4868    ZTS  Jim Cramer on Zoetis (ZTS): “It Does Seem to B...   \n",
       "4869    ZTS           Zoetis (ZTS) Upgraded to Buy: Here's Why   \n",
       "4870    ZTS  ZTS Q1 Earnings Call: Guidance Raised as Platf...   \n",
       "\n",
       "                                                SUMMARY PUBLICATION_DATE  \\\n",
       "0     The Dow Jones (^DJI) is made up of 30 of the m...       2025-05-29   \n",
       "1     The S&P 500 (^GSPC) is often seen as a benchma...       2025-05-27   \n",
       "2     MMM is making strides in the aerospace, indust...       2025-05-22   \n",
       "3     Quarterly earnings results are a good time to ...       2025-05-22   \n",
       "4     While strong cash flow is a key indicator of s...       2025-05-19   \n",
       "...                                                 ...              ...   \n",
       "4866  Zoetis is a leading animal health company with...       2025-05-23   \n",
       "4867  Zoetis (NYSE:ZTS) recently affirmed a dividend...       2025-05-22   \n",
       "4868  We recently published a list of Jim Cramer Tal...       2025-05-21   \n",
       "4869  Zoetis (ZTS) might move higher on growing opti...       2025-05-21   \n",
       "4870  Animal health company Zoetis (NYSE:ZTS) report...       2025-05-19   \n",
       "\n",
       "             PROVIDER                                                URL  \\\n",
       "0          StockStory  https://finance.yahoo.com/news/2-dow-jones-sto...   \n",
       "1          StockStory  https://finance.yahoo.com/news/3-p-500-stocks-...   \n",
       "2               Zacks  https://finance.yahoo.com/news/3m-rises-15-8-y...   \n",
       "3          StockStory  https://finance.yahoo.com/news/q1-earnings-rou...   \n",
       "4          StockStory  https://finance.yahoo.com/news/3-cash-producin...   \n",
       "...               ...                                                ...   \n",
       "4866      Motley Fool  https://www.fool.com/investing/2025/05/23/2-di...   \n",
       "4867  Simply Wall St.  https://finance.yahoo.com/news/zoetis-nyse-zts...   \n",
       "4868   Insider Monkey  https://finance.yahoo.com/news/jim-cramer-zoet...   \n",
       "4869            Zacks  https://finance.yahoo.com/news/zoetis-zts-upgr...   \n",
       "4870       StockStory  https://finance.yahoo.com/news/zts-q1-earnings...   \n",
       "\n",
       "                                          EMBEDDED_TEXT COMPANY_NAME  \\\n",
       "0     2 Dow Jones Stocks with Promising Prospects an...   3M Company   \n",
       "1     3 S&P 500 Stocks Skating on Thin Ice : The S&P...   3M Company   \n",
       "2     3M Rises 15.8% YTD: Should You Buy the Stock N...   3M Company   \n",
       "3     Q1 Earnings Roundup: 3M (NYSE:MMM) And The Res...   3M Company   \n",
       "4     3 Cash-Producing Stocks with Questionable Fund...   3M Company   \n",
       "...                                                 ...          ...   \n",
       "4866  2 Dividend Stocks to Buy With $500 and Hold Fo...  Zoetis Inc.   \n",
       "4867  Zoetis (NYSE:ZTS) Declares US$0.50 Dividend Pe...  Zoetis Inc.   \n",
       "4868  Jim Cramer on Zoetis (ZTS): “It Does Seem to B...  Zoetis Inc.   \n",
       "4869  Zoetis (ZTS) Upgraded to Buy: Here's Why : Zoe...  Zoetis Inc.   \n",
       "4870  ZTS Q1 Earnings Call: Guidance Raised as Platf...  Zoetis Inc.   \n",
       "\n",
       "           SECTOR                                  INDUSTRY  \n",
       "0     Industrials                             Conglomerates  \n",
       "1     Industrials                             Conglomerates  \n",
       "2     Industrials                             Conglomerates  \n",
       "3     Industrials                             Conglomerates  \n",
       "4     Industrials                             Conglomerates  \n",
       "...           ...                                       ...  \n",
       "4866   Healthcare  Drug Manufacturers - Specialty & Generic  \n",
       "4867   Healthcare  Drug Manufacturers - Specialty & Generic  \n",
       "4868   Healthcare  Drug Manufacturers - Specialty & Generic  \n",
       "4869   Healthcare  Drug Manufacturers - Specialty & Generic  \n",
       "4870   Healthcare  Drug Manufacturers - Specialty & Generic  \n",
       "\n",
       "[4871 rows x 10 columns]"
      ]
     },
     "metadata": {},
     "output_type": "display_data"
    }
   ],
   "source": [
    "#WE HAVE TO MERGE DF_NEWS DATAFRAME AND DF_META\n",
    "\n",
    "df_news_merged = df_news.merge(df_meta, on='TICKER', how='left')\n",
    "display(df_news_merged)"
   ]
  },
  {
   "cell_type": "code",
   "execution_count": 48,
   "id": "5b317277",
   "metadata": {},
   "outputs": [
    {
     "data": {
      "text/markdown": [
       "# Category: **Topic-based Questions**"
      ],
      "text/plain": [
       "<IPython.core.display.Markdown object>"
      ]
     },
     "metadata": {},
     "output_type": "display_data"
    },
    {
     "data": {
      "text/markdown": [
       "---\n",
       "## Q1: What are the major concerns expressed in financial news about inflation?"
      ],
      "text/plain": [
       "<IPython.core.display.Markdown object>"
      ]
     },
     "metadata": {},
     "output_type": "display_data"
    },
    {
     "data": {
      "text/markdown": [
       "<details><summary><strong>DEBUG · Prompt enviado al modelo</strong></summary>\n",
       "\n",
       "Tokens aprox: 259\n",
       "\n",
       "```text\n",
       "You are a financial analyst AI. Based on the following news snippets and their associated metadata, answer the user's question.\n",
       "\n",
       "### News Context (with metadata):\n",
       "- Ticker: BLK\n",
       "Company: BlackRock, Inc.\n",
       "Sector: Financial Services\n",
       "Industry: Asset Management\n",
       "News: Bitcoin price slips as Fed minutes flag US inflation risks : The Federal Reserve’s May policy meeting revealed mounting concern over persistent US inflation and the potential for economic slowdown.\n",
       "\n",
       "- Ticker: TSLA\n",
       "Company: Tesla, Inc.\n",
       "Sector: Consumer Cyclical\n",
       "Industry: Auto Manufacturers\n",
       "News: The Weekend: Food inflation dampens hopes of a rate cut as tariff twists and turns continue : Key moments from the last seven days, plus a glimpse at the week ahead\n",
       "\n",
       "- Ticker: NVDA\n",
       "Company: NVIDIA Corporation\n",
       "Sector: Technology\n",
       "Industry: Semiconductors\n",
       "News: The Weekend: Food inflation dampens hopes of a rate cut as tariff twists and turns continue : Key moments from the last seven days, plus a glimpse at the week ahead\n",
       "\n",
       "- Ticker: LULU\n",
       "Company: lululemon athletica inc.\n",
       "Sector: Consumer Cyclical\n",
       "Industry: Apparel Retail\n",
       "News: The Weekend: Food inflation dampens hopes of a rate cut as tariff twists and turns continue : Key moments from the last seven days, plus a glimpse at the week ahead\n",
       "\n",
       "- Ticker: AVGO\n",
       "Company: Broadcom Inc.\n",
       "Sector: Technology\n",
       "Industry: Semiconductors\n",
       "News: The Weekend: Food inflation dampens hopes of a rate cut as tariff twists and turns continue : Key moments from the last seven days, plus a glimpse at the week ahead\n",
       "\n",
       "### Question:\n",
       "What are the major concerns expressed in financial news about inflation?\n",
       "\n",
       "### Answer (short and precise):\n",
       "```\n",
       "</details>"
      ],
      "text/plain": [
       "<IPython.core.display.Markdown object>"
      ]
     },
     "metadata": {},
     "output_type": "display_data"
    },
    {
     "data": {
      "text/markdown": [
       "### **Generated Answer**:\n",
       "The major concerns expressed in financial news about inflation include persistent US inflation risks highlighted by the Federal Reserve, which may hinder prospects for interest rate cuts. Additionally, food inflation is dampening hopes of economic recovery, indicating broader implications for consumer spending and economic growth.\n"
      ],
      "text/plain": [
       "<IPython.core.display.Markdown object>"
      ]
     },
     "metadata": {},
     "output_type": "display_data"
    },
    {
     "data": {
      "text/markdown": [
       "---\n",
       "### **News Context Used**:\n",
       "- Ticker: BLK\n",
       "Company: BlackRock, Inc.\n",
       "Sector: Financial Services\n",
       "Industry: Asset Management\n",
       "News: Bitcoin price slips as Fed minutes flag US inflation risks : The Federal Reserve’s May policy meeting revealed mounting concern over persistent US inflation and the potential for economic slowdown.\n",
       "\n",
       "- Ticker: TSLA\n",
       "Company: Tesla, Inc.\n",
       "Sector: Consumer Cyclical\n",
       "Industry: Auto Manufacturers\n",
       "News: The Weekend: Food inflation dampens hopes of a rate cut as tariff twists and turns continue : Key moments from the last seven days, plus a glimpse at the week ahead\n",
       "\n",
       "- Ticker: NVDA\n",
       "Company: NVIDIA Corporation\n",
       "Sector: Technology\n",
       "Industry: Semiconductors\n",
       "News: The Weekend: Food inflation dampens hopes of a rate cut as tariff twists and turns continue : Key moments from the last seven days, plus a glimpse at the week ahead\n",
       "\n",
       "- Ticker: LULU\n",
       "Company: lululemon athletica inc.\n",
       "Sector: Consumer Cyclical\n",
       "Industry: Apparel Retail\n",
       "News: The Weekend: Food inflation dampens hopes of a rate cut as tariff twists and turns continue : Key moments from the last seven days, plus a glimpse at the week ahead\n",
       "\n",
       "- Ticker: AVGO\n",
       "Company: Broadcom Inc.\n",
       "Sector: Technology\n",
       "Industry: Semiconductors\n",
       "News: The Weekend: Food inflation dampens hopes of a rate cut as tariff twists and turns continue : Key moments from the last seven days, plus a glimpse at the week ahead"
      ],
      "text/plain": [
       "<IPython.core.display.Markdown object>"
      ]
     },
     "metadata": {},
     "output_type": "display_data"
    },
    {
     "data": {
      "text/markdown": [
       "---\n",
       "## Q2: How is investor sentiment described in recent financial headlines?"
      ],
      "text/plain": [
       "<IPython.core.display.Markdown object>"
      ]
     },
     "metadata": {},
     "output_type": "display_data"
    },
    {
     "data": {
      "text/markdown": [
       "<details><summary><strong>DEBUG · Prompt enviado al modelo</strong></summary>\n",
       "\n",
       "Tokens aprox: 373\n",
       "\n",
       "```text\n",
       "You are a financial analyst AI. Based on the following news snippets and their associated metadata, answer the user's question.\n",
       "\n",
       "### News Context (with metadata):\n",
       "- Ticker: KMX\n",
       "Company: CarMax, Inc.\n",
       "Sector: Consumer Cyclical\n",
       "Industry: Auto & Truck Dealerships\n",
       "News: 3 of Wall Street’s Favorite Stocks Facing Headwinds : Wall Street has set ambitious price targets for the stocks in this article. While this suggests attractive upside potential, it’s important to remain skeptical because analysts face institutional pressures that can sometimes lead to overly optimistic forecasts.\n",
       "\n",
       "- Ticker: MCHP\n",
       "Company: Microchip Technology Incorporated\n",
       "Sector: Technology\n",
       "Industry: Semiconductors\n",
       "News: 3 Hyped Up  Stocks Facing Headwinds : Great things are happening to the stocks in this article. They’re all outperforming the market over the last month because of positive catalysts such as a new product line, constructive news flow, or even a loyal Reddit fanbase.\n",
       "\n",
       "- Ticker: MPWR\n",
       "Company: Monolithic Power Systems, Inc.\n",
       "Sector: Technology\n",
       "Industry: Semiconductors\n",
       "News: 1 of Wall Street’s Favorite Stock with Impressive Fundamentals and 2 to Think Twice About : The stocks in this article have caught Wall Street’s attention in a big way, with price targets implying returns above 20%. But investors should take these forecasts with a grain of salt because analysts typically say nice things about companies so their firms can win business in other product lines like M&A advisory.\n",
       "\n",
       "- Ticker: DRI\n",
       "Company: Darden Restaurants, Inc.\n",
       "Sector: Consumer Cyclical\n",
       "Industry: Restaurants\n",
       "News: 1 Unpopular Stock that Should Get More Attention and 2 to Steer Clear Of : When Wall Street turns bearish on a stock, it’s worth paying attention. These calls stand out because analysts rarely issue grim ratings on companies for fear their firms will lose out in other business lines such as M&A advisory.\n",
       "\n",
       "- Ticker: RVTY\n",
       "Company: Revvity, Inc.\n",
       "Sector: Healthcare\n",
       "Industry: Diagnostics & Research\n",
       "News: 3 of Wall Street’s Favorite Stocks with Questionable Fundamentals : Wall Street is overwhelmingly bullish on the stocks in this article, with price targets suggesting significant upside potential. However, it’s worth remembering that analysts rarely issue sell ratings, partly because their firms often seek other business from the same companies they cover.\n",
       "\n",
       "### Question:\n",
       "How is investor sentiment described in recent financial headlines?\n",
       "\n",
       "### Answer (short and precise):\n",
       "```\n",
       "</details>"
      ],
      "text/plain": [
       "<IPython.core.display.Markdown object>"
      ]
     },
     "metadata": {},
     "output_type": "display_data"
    },
    {
     "data": {
      "text/markdown": [
       "### **Generated Answer**:\n",
       "Investor sentiment is described as cautiously optimistic in recent financial headlines, with a mix of enthusiasm for certain stocks due to positive catalysts, but also a warning to remain skeptical of Wall Street's price targets due to potential biases and pressures on analysts.\n"
      ],
      "text/plain": [
       "<IPython.core.display.Markdown object>"
      ]
     },
     "metadata": {},
     "output_type": "display_data"
    },
    {
     "data": {
      "text/markdown": [
       "---\n",
       "### **News Context Used**:\n",
       "- Ticker: KMX\n",
       "Company: CarMax, Inc.\n",
       "Sector: Consumer Cyclical\n",
       "Industry: Auto & Truck Dealerships\n",
       "News: 3 of Wall Street’s Favorite Stocks Facing Headwinds : Wall Street has set ambitious price targets for the stocks in this article. While this suggests attractive upside potential, it’s important to remain skeptical because analysts face institutional pressures that can sometimes lead to overly optimistic forecasts.\n",
       "\n",
       "- Ticker: MCHP\n",
       "Company: Microchip Technology Incorporated\n",
       "Sector: Technology\n",
       "Industry: Semiconductors\n",
       "News: 3 Hyped Up  Stocks Facing Headwinds : Great things are happening to the stocks in this article. They’re all outperforming the market over the last month because of positive catalysts such as a new product line, constructive news flow, or even a loyal Reddit fanbase.\n",
       "\n",
       "- Ticker: MPWR\n",
       "Company: Monolithic Power Systems, Inc.\n",
       "Sector: Technology\n",
       "Industry: Semiconductors\n",
       "News: 1 of Wall Street’s Favorite Stock with Impressive Fundamentals and 2 to Think Twice About : The stocks in this article have caught Wall Street’s attention in a big way, with price targets implying returns above 20%. But investors should take these forecasts with a grain of salt because analysts typically say nice things about companies so their firms can win business in other product lines like M&A advisory.\n",
       "\n",
       "- Ticker: DRI\n",
       "Company: Darden Restaurants, Inc.\n",
       "Sector: Consumer Cyclical\n",
       "Industry: Restaurants\n",
       "News: 1 Unpopular Stock that Should Get More Attention and 2 to Steer Clear Of : When Wall Street turns bearish on a stock, it’s worth paying attention. These calls stand out because analysts rarely issue grim ratings on companies for fear their firms will lose out in other business lines such as M&A advisory.\n",
       "\n",
       "- Ticker: RVTY\n",
       "Company: Revvity, Inc.\n",
       "Sector: Healthcare\n",
       "Industry: Diagnostics & Research\n",
       "News: 3 of Wall Street’s Favorite Stocks with Questionable Fundamentals : Wall Street is overwhelmingly bullish on the stocks in this article, with price targets suggesting significant upside potential. However, it’s worth remembering that analysts rarely issue sell ratings, partly because their firms often seek other business from the same companies they cover."
      ],
      "text/plain": [
       "<IPython.core.display.Markdown object>"
      ]
     },
     "metadata": {},
     "output_type": "display_data"
    },
    {
     "data": {
      "text/markdown": [
       "---\n",
       "## Q3: What role is artificial intelligence playing in recent finance-related news stories?"
      ],
      "text/plain": [
       "<IPython.core.display.Markdown object>"
      ]
     },
     "metadata": {},
     "output_type": "display_data"
    },
    {
     "data": {
      "text/markdown": [
       "<details><summary><strong>DEBUG · Prompt enviado al modelo</strong></summary>\n",
       "\n",
       "Tokens aprox: 440\n",
       "\n",
       "```text\n",
       "You are a financial analyst AI. Based on the following news snippets and their associated metadata, answer the user's question.\n",
       "\n",
       "### News Context (with metadata):\n",
       "- Ticker: JKHY\n",
       "Company: Jack Henry & Associates, Inc.\n",
       "Sector: Technology\n",
       "Industry: Information Technology Services\n",
       "News: Jack Henry (JKHY) Integrates AI-Driven Lending Tech With Algebrik : We recently published a list of 12 AI News Investors Should Not Miss This Week. In this article, we are going to take a look at where Jack Henry & Associates, Inc. (NASDAQ:JKHY) stands against other AI news Investors should not miss this week. Artificial Intelligence (AI) is known to increase productivity, decrease human error, […]\n",
       "\n",
       "- Ticker: META\n",
       "Company: Meta Platforms, Inc.\n",
       "Sector: Communication Services\n",
       "Industry: Internet Content & Information\n",
       "News: This \"Magnificent Seven\" Stock Is Set to Skyrocket If Its AI Investments Pay Off : Meta Platforms has investments in several AI applications.  The tech giant's stock is only valued on its legacy business.  Over the past two-and-a-half years, investors have heard about various artificial intelligence (AI) investments that tech companies are making.\n",
       "\n",
       "- Ticker: PLTR\n",
       "Company: Palantir Technologies Inc.\n",
       "Sector: Technology\n",
       "Industry: Software - Infrastructure\n",
       "News: Billionaires Are Buying 2 Artificial Intelligence (AI) Stocks That Wall Street Analysts Say Can Soar Up to 240% : Several billionaire hedge fund managers bought shares of Palantir and/or Upstart in the first quarter -- stocks where certain analysts anticipate substantial upside.  Palantir is successfully tapping demand for artificial intelligence (AI) with government and commercial customers, but the stock trades at a very expensive valuation.  Upstart is generating attractive returns for lenders by helping them quantify credit risk with artificial intelligence, and the stock trades at a very reasonable valuation.\n",
       "\n",
       "- Ticker: PLTR\n",
       "Company: Palantir Technologies Inc.\n",
       "Sector: Technology\n",
       "Industry: Software - Infrastructure\n",
       "News: Better Artificial Intelligence (AI) Stock: Palantir vs. Snowflake : Shares of both Palantir and Snowflake have delivered healthy gains in 2025 despite the broader stock market weakness.  Palantir stock has shot up 63% this year despite bouts of volatility.  Palantir Technologies helps commercial and government clients integrate generative AI capabilities into their operations with its Artificial Intelligence Platform (AIP), which was launched roughly two years ago.\n",
       "\n",
       "- Ticker: NFLX\n",
       "Company: Netflix, Inc.\n",
       "Sector: Communication Services\n",
       "Industry: Entertainment\n",
       "News: 2 Underrated Artificial Intelligence (AI) Stocks to Buy and Hold : Generative AI can simplify and speed up many tasks, including content production.  It's easy to see the potential for Netflix, whose content strategy is integral to its success.  Netflix's creations have attracted millions of viewers and won many awards.\n",
       "\n",
       "### Question:\n",
       "What role is artificial intelligence playing in recent finance-related news stories?\n",
       "\n",
       "### Answer (short and precise):\n",
       "```\n",
       "</details>"
      ],
      "text/plain": [
       "<IPython.core.display.Markdown object>"
      ]
     },
     "metadata": {},
     "output_type": "display_data"
    },
    {
     "data": {
      "text/markdown": [
       "### **Generated Answer**:\n",
       "Artificial intelligence (AI) is playing a significant role in recent finance-related news stories by driving innovations and investment opportunities across various sectors. Companies like Jack Henry & Associates, Inc. are integrating AI technologies to enhance productivity in lending, while Meta Platforms is focusing on AI investments to unlock potential beyond its legacy business. Palantir Technologies is capitalizing on demand for AI solutions in both government and commercial sectors, leading to significant stock gains despite high valuations. Additionally, Netflix is utilizing generative AI to optimize content production, indicating its transformative impact on the entertainment industry. Overall, AI is seen as a catalyst for growth and investment potential in the tech sector.\n"
      ],
      "text/plain": [
       "<IPython.core.display.Markdown object>"
      ]
     },
     "metadata": {},
     "output_type": "display_data"
    },
    {
     "data": {
      "text/markdown": [
       "---\n",
       "### **News Context Used**:\n",
       "- Ticker: JKHY\n",
       "Company: Jack Henry & Associates, Inc.\n",
       "Sector: Technology\n",
       "Industry: Information Technology Services\n",
       "News: Jack Henry (JKHY) Integrates AI-Driven Lending Tech With Algebrik : We recently published a list of 12 AI News Investors Should Not Miss This Week. In this article, we are going to take a look at where Jack Henry & Associates, Inc. (NASDAQ:JKHY) stands against other AI news Investors should not miss this week. Artificial Intelligence (AI) is known to increase productivity, decrease human error, […]\n",
       "\n",
       "- Ticker: META\n",
       "Company: Meta Platforms, Inc.\n",
       "Sector: Communication Services\n",
       "Industry: Internet Content & Information\n",
       "News: This \"Magnificent Seven\" Stock Is Set to Skyrocket If Its AI Investments Pay Off : Meta Platforms has investments in several AI applications.  The tech giant's stock is only valued on its legacy business.  Over the past two-and-a-half years, investors have heard about various artificial intelligence (AI) investments that tech companies are making.\n",
       "\n",
       "- Ticker: PLTR\n",
       "Company: Palantir Technologies Inc.\n",
       "Sector: Technology\n",
       "Industry: Software - Infrastructure\n",
       "News: Billionaires Are Buying 2 Artificial Intelligence (AI) Stocks That Wall Street Analysts Say Can Soar Up to 240% : Several billionaire hedge fund managers bought shares of Palantir and/or Upstart in the first quarter -- stocks where certain analysts anticipate substantial upside.  Palantir is successfully tapping demand for artificial intelligence (AI) with government and commercial customers, but the stock trades at a very expensive valuation.  Upstart is generating attractive returns for lenders by helping them quantify credit risk with artificial intelligence, and the stock trades at a very reasonable valuation.\n",
       "\n",
       "- Ticker: PLTR\n",
       "Company: Palantir Technologies Inc.\n",
       "Sector: Technology\n",
       "Industry: Software - Infrastructure\n",
       "News: Better Artificial Intelligence (AI) Stock: Palantir vs. Snowflake : Shares of both Palantir and Snowflake have delivered healthy gains in 2025 despite the broader stock market weakness.  Palantir stock has shot up 63% this year despite bouts of volatility.  Palantir Technologies helps commercial and government clients integrate generative AI capabilities into their operations with its Artificial Intelligence Platform (AIP), which was launched roughly two years ago.\n",
       "\n",
       "- Ticker: NFLX\n",
       "Company: Netflix, Inc.\n",
       "Sector: Communication Services\n",
       "Industry: Entertainment\n",
       "News: 2 Underrated Artificial Intelligence (AI) Stocks to Buy and Hold : Generative AI can simplify and speed up many tasks, including content production.  It's easy to see the potential for Netflix, whose content strategy is integral to its success.  Netflix's creations have attracted millions of viewers and won many awards."
      ],
      "text/plain": [
       "<IPython.core.display.Markdown object>"
      ]
     },
     "metadata": {},
     "output_type": "display_data"
    },
    {
     "data": {
      "text/markdown": [
       "# Category: **Company-based Questions**"
      ],
      "text/plain": [
       "<IPython.core.display.Markdown object>"
      ]
     },
     "metadata": {},
     "output_type": "display_data"
    },
    {
     "data": {
      "text/markdown": [
       "---\n",
       "## Q1: How is Microsoft being portrayed in news stories about artificial intelligence?"
      ],
      "text/plain": [
       "<IPython.core.display.Markdown object>"
      ]
     },
     "metadata": {},
     "output_type": "display_data"
    },
    {
     "data": {
      "text/markdown": [
       "<details><summary><strong>DEBUG · Prompt enviado al modelo</strong></summary>\n",
       "\n",
       "Tokens aprox: 442\n",
       "\n",
       "```text\n",
       "You are a financial analyst AI. Based on the following news snippets and their associated metadata, answer the user's question.\n",
       "\n",
       "### News Context (with metadata):\n",
       "- Ticker: META\n",
       "Company: Meta Platforms, Inc.\n",
       "Sector: Communication Services\n",
       "Industry: Internet Content & Information\n",
       "News: This \"Magnificent Seven\" Stock Is Set to Skyrocket If Its AI Investments Pay Off : Meta Platforms has investments in several AI applications.  The tech giant's stock is only valued on its legacy business.  Over the past two-and-a-half years, investors have heard about various artificial intelligence (AI) investments that tech companies are making.\n",
       "\n",
       "- Ticker: CRM\n",
       "Company: Salesforce, Inc.\n",
       "Sector: Technology\n",
       "Industry: Software - Application\n",
       "News: How Salesforce has 'overcorrected' by leaning into AI : D.A. Davidson head of technology research Gil Luria joins Market Domination to discuss Salesforce (CRM) earnings and the company's trajectory. Luria says Salesforce is \"too focused\" on artificial intelligence (AI), as the other parts of its business \"rapidly\" decelerate and the company loses market share to competitors. Luria has the equivalent of a Sell rating on the stock. To watch more expert insights and analysis on the latest market action, check out more Market Domination here.\n",
       "\n",
       "- Ticker: JKHY\n",
       "Company: Jack Henry & Associates, Inc.\n",
       "Sector: Technology\n",
       "Industry: Information Technology Services\n",
       "News: Jack Henry (JKHY) Integrates AI-Driven Lending Tech With Algebrik : We recently published a list of 12 AI News Investors Should Not Miss This Week. In this article, we are going to take a look at where Jack Henry & Associates, Inc. (NASDAQ:JKHY) stands against other AI news Investors should not miss this week. Artificial Intelligence (AI) is known to increase productivity, decrease human error, […]\n",
       "\n",
       "- Ticker: NFLX\n",
       "Company: Netflix, Inc.\n",
       "Sector: Communication Services\n",
       "Industry: Entertainment\n",
       "News: 2 Underrated Artificial Intelligence (AI) Stocks to Buy and Hold : Generative AI can simplify and speed up many tasks, including content production.  It's easy to see the potential for Netflix, whose content strategy is integral to its success.  Netflix's creations have attracted millions of viewers and won many awards.\n",
       "\n",
       "- Ticker: META\n",
       "Company: Meta Platforms, Inc.\n",
       "Sector: Communication Services\n",
       "Industry: Internet Content & Information\n",
       "News: Meta (META) AI Reaches 1 Billion Users, Eyes Paid Features and Subscriptions : We recently published a list of 10 AI Stocks on Wall Street’s Radar. In this article, we are going to take a look at where Meta Platforms, Inc. (NASDAQ:META) stands against other AI stocks on Wall Street’s radar. Meta Platforms, Inc. (NASDAQ:META) is a global technology company. On May 28, CNBC reported that Meta Platforms, Inc. (NASDAQ:META)’s artificial […]\n",
       "\n",
       "### Question:\n",
       "How is Microsoft being portrayed in news stories about artificial intelligence?\n",
       "\n",
       "### Answer (short and precise):\n",
       "```\n",
       "</details>"
      ],
      "text/plain": [
       "<IPython.core.display.Markdown object>"
      ]
     },
     "metadata": {},
     "output_type": "display_data"
    },
    {
     "data": {
      "text/markdown": [
       "### **Generated Answer**:\n",
       "The provided news snippets do not include any information about Microsoft or its portrayal in relation to artificial intelligence.\n"
      ],
      "text/plain": [
       "<IPython.core.display.Markdown object>"
      ]
     },
     "metadata": {},
     "output_type": "display_data"
    },
    {
     "data": {
      "text/markdown": [
       "---\n",
       "### **News Context Used**:\n",
       "- Ticker: META\n",
       "Company: Meta Platforms, Inc.\n",
       "Sector: Communication Services\n",
       "Industry: Internet Content & Information\n",
       "News: This \"Magnificent Seven\" Stock Is Set to Skyrocket If Its AI Investments Pay Off : Meta Platforms has investments in several AI applications.  The tech giant's stock is only valued on its legacy business.  Over the past two-and-a-half years, investors have heard about various artificial intelligence (AI) investments that tech companies are making.\n",
       "\n",
       "- Ticker: CRM\n",
       "Company: Salesforce, Inc.\n",
       "Sector: Technology\n",
       "Industry: Software - Application\n",
       "News: How Salesforce has 'overcorrected' by leaning into AI : D.A. Davidson head of technology research Gil Luria joins Market Domination to discuss Salesforce (CRM) earnings and the company's trajectory. Luria says Salesforce is \"too focused\" on artificial intelligence (AI), as the other parts of its business \"rapidly\" decelerate and the company loses market share to competitors. Luria has the equivalent of a Sell rating on the stock. To watch more expert insights and analysis on the latest market action, check out more Market Domination here.\n",
       "\n",
       "- Ticker: JKHY\n",
       "Company: Jack Henry & Associates, Inc.\n",
       "Sector: Technology\n",
       "Industry: Information Technology Services\n",
       "News: Jack Henry (JKHY) Integrates AI-Driven Lending Tech With Algebrik : We recently published a list of 12 AI News Investors Should Not Miss This Week. In this article, we are going to take a look at where Jack Henry & Associates, Inc. (NASDAQ:JKHY) stands against other AI news Investors should not miss this week. Artificial Intelligence (AI) is known to increase productivity, decrease human error, […]\n",
       "\n",
       "- Ticker: NFLX\n",
       "Company: Netflix, Inc.\n",
       "Sector: Communication Services\n",
       "Industry: Entertainment\n",
       "News: 2 Underrated Artificial Intelligence (AI) Stocks to Buy and Hold : Generative AI can simplify and speed up many tasks, including content production.  It's easy to see the potential for Netflix, whose content strategy is integral to its success.  Netflix's creations have attracted millions of viewers and won many awards.\n",
       "\n",
       "- Ticker: META\n",
       "Company: Meta Platforms, Inc.\n",
       "Sector: Communication Services\n",
       "Industry: Internet Content & Information\n",
       "News: Meta (META) AI Reaches 1 Billion Users, Eyes Paid Features and Subscriptions : We recently published a list of 10 AI Stocks on Wall Street’s Radar. In this article, we are going to take a look at where Meta Platforms, Inc. (NASDAQ:META) stands against other AI stocks on Wall Street’s radar. Meta Platforms, Inc. (NASDAQ:META) is a global technology company. On May 28, CNBC reported that Meta Platforms, Inc. (NASDAQ:META)’s artificial […]"
      ],
      "text/plain": [
       "<IPython.core.display.Markdown object>"
      ]
     },
     "metadata": {},
     "output_type": "display_data"
    },
    {
     "data": {
      "text/markdown": [
       "---\n",
       "## Q2: What financial news headlines connect Amazon with automation or logistics?"
      ],
      "text/plain": [
       "<IPython.core.display.Markdown object>"
      ]
     },
     "metadata": {},
     "output_type": "display_data"
    },
    {
     "data": {
      "text/markdown": [
       "<details><summary><strong>DEBUG · Prompt enviado al modelo</strong></summary>\n",
       "\n",
       "Tokens aprox: 356\n",
       "\n",
       "```text\n",
       "You are a financial analyst AI. Based on the following news snippets and their associated metadata, answer the user's question.\n",
       "\n",
       "### News Context (with metadata):\n",
       "- Ticker: TFC\n",
       "Company: Truist Financial Corporation\n",
       "Sector: Financial Services\n",
       "Industry: Banks - Regional\n",
       "News: Truist Reiterates Buy on Amazon.com (AMZN) as Q2 Revenue Tracks Ahead : We recently published a list of 10 AI Stocks on Wall Street’s Radar. In this article, we are going to take a look at where Amazon.com Inc. (NASDAQ:AMZN) stands against other AI stocks on Wall Street’s radar. Amazon.com Inc. (NASDAQ:AMZN) is an American technology company offering e-commerce, cloud computing, and other services, including digital streaming […]\n",
       "\n",
       "- Ticker: AMZN\n",
       "Company: Amazon.com, Inc.\n",
       "Sector: Consumer Cyclical\n",
       "Industry: Internet Retail\n",
       "News: Amazon's AI Roadmap With AWS CEO Garman : Every aspect of Amazon is leveraging artificial intelligence, says Matt Garman, CEO of Amazon Web Services. Garman discusses Amazon's AI roadmap and reflects on his first year in the role with Ed Ludlow on \"Bloomberg Technology.\"\n",
       "\n",
       "- Ticker: TFC\n",
       "Company: Truist Financial Corporation\n",
       "Sector: Financial Services\n",
       "Industry: Banks - Regional\n",
       "News: Woodward's Volumes, Automation to Drive Earnings Growth, Truist Says : Woodward's (WWD) increasing volumes, pricing, automation, and products will push its aerospace margi\n",
       "\n",
       "- Ticker: AON\n",
       "Company: Aon plc\n",
       "Sector: Financial Services\n",
       "Industry: Insurance Brokers\n",
       "News: Top Stock Reports for Amazon.com, Johnson & Johnson & Cisco Systems : Today's Research Daily features new research reports on 16 major stocks, including Amazon.com, Inc. (AMZN), Johnson & Johnson (JNJ) and Cisco Systems, Inc. (CSCO), as well as a micro-cap NeurAxis, Inc. (NRXS).\n",
       "\n",
       "- Ticker: CHRW\n",
       "Company: C.H. Robinson Worldwide, Inc.\n",
       "Sector: Industrials\n",
       "Industry: Integrated Freight & Logistics\n",
       "News: Winners And Losers Of Q1: C.H. Robinson Worldwide (NASDAQ:CHRW) Vs The Rest Of The Air Freight and Logistics Stocks : As the craze of earnings season draws to a close, here’s a look back at some of the most exciting (and some less so) results from Q1. Today, we are looking at air freight and logistics stocks, starting with C.H. Robinson Worldwide (NASDAQ:CHRW).\n",
       "\n",
       "### Question:\n",
       "What financial news headlines connect Amazon with automation or logistics?\n",
       "\n",
       "### Answer (short and precise):\n",
       "```\n",
       "</details>"
      ],
      "text/plain": [
       "<IPython.core.display.Markdown object>"
      ]
     },
     "metadata": {},
     "output_type": "display_data"
    },
    {
     "data": {
      "text/markdown": [
       "### **Generated Answer**:\n",
       "The relevant financial news headlines that connect Amazon with automation or logistics are:\n",
       "\n",
       "1. \"Amazon's AI Roadmap With AWS CEO Garman\" - Discusses how Amazon is leveraging artificial intelligence across its operations.\n",
       "2. \"Winners And Losers Of Q1: C.H. Robinson Worldwide (NASDAQ:CHRW) Vs The Rest Of The Air Freight and Logistics Stocks\" - While not directly mentioning Amazon, it pertains to logistics, which is relevant given Amazon's shipping and logistics operations.\n"
      ],
      "text/plain": [
       "<IPython.core.display.Markdown object>"
      ]
     },
     "metadata": {},
     "output_type": "display_data"
    },
    {
     "data": {
      "text/markdown": [
       "---\n",
       "### **News Context Used**:\n",
       "- Ticker: TFC\n",
       "Company: Truist Financial Corporation\n",
       "Sector: Financial Services\n",
       "Industry: Banks - Regional\n",
       "News: Truist Reiterates Buy on Amazon.com (AMZN) as Q2 Revenue Tracks Ahead : We recently published a list of 10 AI Stocks on Wall Street’s Radar. In this article, we are going to take a look at where Amazon.com Inc. (NASDAQ:AMZN) stands against other AI stocks on Wall Street’s radar. Amazon.com Inc. (NASDAQ:AMZN) is an American technology company offering e-commerce, cloud computing, and other services, including digital streaming […]\n",
       "\n",
       "- Ticker: AMZN\n",
       "Company: Amazon.com, Inc.\n",
       "Sector: Consumer Cyclical\n",
       "Industry: Internet Retail\n",
       "News: Amazon's AI Roadmap With AWS CEO Garman : Every aspect of Amazon is leveraging artificial intelligence, says Matt Garman, CEO of Amazon Web Services. Garman discusses Amazon's AI roadmap and reflects on his first year in the role with Ed Ludlow on \"Bloomberg Technology.\"\n",
       "\n",
       "- Ticker: TFC\n",
       "Company: Truist Financial Corporation\n",
       "Sector: Financial Services\n",
       "Industry: Banks - Regional\n",
       "News: Woodward's Volumes, Automation to Drive Earnings Growth, Truist Says : Woodward's (WWD) increasing volumes, pricing, automation, and products will push its aerospace margi\n",
       "\n",
       "- Ticker: AON\n",
       "Company: Aon plc\n",
       "Sector: Financial Services\n",
       "Industry: Insurance Brokers\n",
       "News: Top Stock Reports for Amazon.com, Johnson & Johnson & Cisco Systems : Today's Research Daily features new research reports on 16 major stocks, including Amazon.com, Inc. (AMZN), Johnson & Johnson (JNJ) and Cisco Systems, Inc. (CSCO), as well as a micro-cap NeurAxis, Inc. (NRXS).\n",
       "\n",
       "- Ticker: CHRW\n",
       "Company: C.H. Robinson Worldwide, Inc.\n",
       "Sector: Industrials\n",
       "Industry: Integrated Freight & Logistics\n",
       "News: Winners And Losers Of Q1: C.H. Robinson Worldwide (NASDAQ:CHRW) Vs The Rest Of The Air Freight and Logistics Stocks : As the craze of earnings season draws to a close, here’s a look back at some of the most exciting (and some less so) results from Q1. Today, we are looking at air freight and logistics stocks, starting with C.H. Robinson Worldwide (NASDAQ:CHRW)."
      ],
      "text/plain": [
       "<IPython.core.display.Markdown object>"
      ]
     },
     "metadata": {},
     "output_type": "display_data"
    },
    {
     "data": {
      "text/markdown": [
       "# Category: **Industry-based Questions**"
      ],
      "text/plain": [
       "<IPython.core.display.Markdown object>"
      ]
     },
     "metadata": {},
     "output_type": "display_data"
    },
    {
     "data": {
      "text/markdown": [
       "---\n",
       "## Q1: What are the main themes emerging in financial news about the semiconductor industry?"
      ],
      "text/plain": [
       "<IPython.core.display.Markdown object>"
      ]
     },
     "metadata": {},
     "output_type": "display_data"
    },
    {
     "data": {
      "text/markdown": [
       "<details><summary><strong>DEBUG · Prompt enviado al modelo</strong></summary>\n",
       "\n",
       "Tokens aprox: 336\n",
       "\n",
       "```text\n",
       "You are a financial analyst AI. Based on the following news snippets and their associated metadata, answer the user's question.\n",
       "\n",
       "### News Context (with metadata):\n",
       "- Ticker: ON\n",
       "Company: ON Semiconductor Corporation\n",
       "Sector: Technology\n",
       "Industry: Semiconductors\n",
       "News: Investing in ON Semiconductor Corp. (ON)? Don't Miss Assessing Its International Revenue Trends : Explore ON Semiconductor Corp.'s (ON) international revenue trends and how these numbers impact Wall Street's forecasts and what's ahead for the stock.\n",
       "\n",
       "- Ticker: ON\n",
       "Company: ON Semiconductor Corporation\n",
       "Sector: Technology\n",
       "Industry: Semiconductors\n",
       "News: ON Semiconductor Corporation (ON) is Attracting Investor Attention: Here is What You Should Know : Recently, Zacks.com users have been paying close attention to ON Semiconductor Corp. (ON). This makes it worthwhile to examine what the stock has in store.\n",
       "\n",
       "- Ticker: ON\n",
       "Company: ON Semiconductor Corporation\n",
       "Sector: Technology\n",
       "Industry: Semiconductors\n",
       "News: Some May Be Optimistic About ON Semiconductor's (NASDAQ:ON) Earnings : Soft earnings didn't appear to concern ON Semiconductor Corporation's ( NASDAQ:ON ) shareholders over the last week...\n",
       "\n",
       "- Ticker: ADI\n",
       "Company: Analog Devices, Inc.\n",
       "Sector: Technology\n",
       "Industry: Semiconductors\n",
       "News: Spotting Winners: Vishay Intertechnology (NYSE:VSH) And Analog Semiconductors Stocks In Q1 : The end of an earnings season can be a great time to discover new stocks and assess how companies are handling the current business environment. Let’s take a look at how Vishay Intertechnology (NYSE:VSH) and the rest of the analog semiconductors stocks fared in Q1.\n",
       "\n",
       "- Ticker: ON\n",
       "Company: ON Semiconductor Corporation\n",
       "Sector: Technology\n",
       "Industry: Semiconductors\n",
       "News: ON Semiconductor (ON): Among Billionaire Glenn Russell Dubin’s Stock Picks with Huge Upside Potential : We recently published a list of Billionaire Glenn Russell Dubin’s 10 Stock Picks with Huge Upside Potential. In this article, we are going to take a look at where ON Semiconductor Corporation (NASDAQ:ON) stands against Billionaire Glenn Russell Dubin’s other stock picks with huge upside potential. Glenn Russell Dubin is one of the industry’s most […]\n",
       "\n",
       "### Question:\n",
       "What are the main themes emerging in financial news about the semiconductor industry?\n",
       "\n",
       "### Answer (short and precise):\n",
       "```\n",
       "</details>"
      ],
      "text/plain": [
       "<IPython.core.display.Markdown object>"
      ]
     },
     "metadata": {},
     "output_type": "display_data"
    },
    {
     "data": {
      "text/markdown": [
       "### **Generated Answer**:\n",
       "The main themes emerging in financial news about the semiconductor industry include:\n",
       "\n",
       "1. **Investor Attention**: Companies like ON Semiconductor are attracting significant interest from investors, indicating a positive sentiment towards their potential.\n",
       "\n",
       "2. **Earnings Reports**: There are mixed reactions to earnings, with some companies showing soft earnings yet maintaining shareholder confidence.\n",
       "\n",
       "3. **International Revenue Trends**: The analysis of international revenue trends is crucial for understanding market forecasts and the future outlook.\n",
       "\n",
       "4. **Stock Potential**: Notable investors are identifying stocks within the semiconductor sector, suggesting there are opportunities for substantial upside potential.\n"
      ],
      "text/plain": [
       "<IPython.core.display.Markdown object>"
      ]
     },
     "metadata": {},
     "output_type": "display_data"
    },
    {
     "data": {
      "text/markdown": [
       "---\n",
       "### **News Context Used**:\n",
       "- Ticker: ON\n",
       "Company: ON Semiconductor Corporation\n",
       "Sector: Technology\n",
       "Industry: Semiconductors\n",
       "News: Investing in ON Semiconductor Corp. (ON)? Don't Miss Assessing Its International Revenue Trends : Explore ON Semiconductor Corp.'s (ON) international revenue trends and how these numbers impact Wall Street's forecasts and what's ahead for the stock.\n",
       "\n",
       "- Ticker: ON\n",
       "Company: ON Semiconductor Corporation\n",
       "Sector: Technology\n",
       "Industry: Semiconductors\n",
       "News: ON Semiconductor Corporation (ON) is Attracting Investor Attention: Here is What You Should Know : Recently, Zacks.com users have been paying close attention to ON Semiconductor Corp. (ON). This makes it worthwhile to examine what the stock has in store.\n",
       "\n",
       "- Ticker: ON\n",
       "Company: ON Semiconductor Corporation\n",
       "Sector: Technology\n",
       "Industry: Semiconductors\n",
       "News: Some May Be Optimistic About ON Semiconductor's (NASDAQ:ON) Earnings : Soft earnings didn't appear to concern ON Semiconductor Corporation's ( NASDAQ:ON ) shareholders over the last week...\n",
       "\n",
       "- Ticker: ADI\n",
       "Company: Analog Devices, Inc.\n",
       "Sector: Technology\n",
       "Industry: Semiconductors\n",
       "News: Spotting Winners: Vishay Intertechnology (NYSE:VSH) And Analog Semiconductors Stocks In Q1 : The end of an earnings season can be a great time to discover new stocks and assess how companies are handling the current business environment. Let’s take a look at how Vishay Intertechnology (NYSE:VSH) and the rest of the analog semiconductors stocks fared in Q1.\n",
       "\n",
       "- Ticker: ON\n",
       "Company: ON Semiconductor Corporation\n",
       "Sector: Technology\n",
       "Industry: Semiconductors\n",
       "News: ON Semiconductor (ON): Among Billionaire Glenn Russell Dubin’s Stock Picks with Huge Upside Potential : We recently published a list of Billionaire Glenn Russell Dubin’s 10 Stock Picks with Huge Upside Potential. In this article, we are going to take a look at where ON Semiconductor Corporation (NASDAQ:ON) stands against Billionaire Glenn Russell Dubin’s other stock picks with huge upside potential. Glenn Russell Dubin is one of the industry’s most […]"
      ],
      "text/plain": [
       "<IPython.core.display.Markdown object>"
      ]
     },
     "metadata": {},
     "output_type": "display_data"
    },
    {
     "data": {
      "text/markdown": [
       "---\n",
       "## Q2: What trends are being reported in the retail industry?"
      ],
      "text/plain": [
       "<IPython.core.display.Markdown object>"
      ]
     },
     "metadata": {},
     "output_type": "display_data"
    },
    {
     "data": {
      "text/markdown": [
       "<details><summary><strong>DEBUG · Prompt enviado al modelo</strong></summary>\n",
       "\n",
       "Tokens aprox: 341\n",
       "\n",
       "```text\n",
       "You are a financial analyst AI. Based on the following news snippets and their associated metadata, answer the user's question.\n",
       "\n",
       "### News Context (with metadata):\n",
       "- Ticker: KMX\n",
       "Company: CarMax, Inc.\n",
       "Sector: Consumer Cyclical\n",
       "Industry: Auto & Truck Dealerships\n",
       "News: 3 Consumer Stocks That Concern Us : Retailers are adapting their business models as technology changes how people shop. Still, demand can be volatile as the industry is exposed to the ups and downs of consumer spending. This has stirred some uncertainty lately as retail stocks have tumbled by 13.7% over the past six months. This performance was worse than the S&P 500’s 5.5% loss.\n",
       "\n",
       "- Ticker: BBY\n",
       "Company: Best Buy Co., Inc.\n",
       "Sector: Consumer Cyclical\n",
       "Industry: Specialty Retail\n",
       "News: Retailers, Ducking Trade-War Curveballs, Stick to Their Plans : As legal rulings roll in on Trump’s tariff policies, retail executives say they have shifted their supply chains and many price increases already have hit shelves.\n",
       "\n",
       "- Ticker: HLT\n",
       "Company: Hilton Worldwide Holdings Inc.\n",
       "Sector: Consumer Cyclical\n",
       "Industry: Lodging\n",
       "News: 3 Consumer Stocks Skating on Thin Ice : The performance of consumer discretionary businesses is closely linked to economic cycles. Over the past six months, it seems like demand trends are working against their favor as the industry has tumbled by 12.3%. This drop was significantly worse than the S&P 500’s 2.1% decline.\n",
       "\n",
       "- Ticker: PKG\n",
       "Company: Packaging Corporation of America\n",
       "Sector: Consumer Cyclical\n",
       "Industry: Packaging & Containers\n",
       "News: Packaging Corporation of America (NYSE:PKG) Hasn't Managed To Accelerate Its Returns : What trends should we look for it we want to identify stocks that can multiply in value over the long term? Amongst...\n",
       "\n",
       "- Ticker: APD\n",
       "Company: Air Products and Chemicals, Inc.\n",
       "Sector: Basic Materials\n",
       "Industry: Specialty Chemicals\n",
       "News: Air Products and Chemicals (NYSE:APD) Will Be Hoping To Turn Its Returns On Capital Around : To find a multi-bagger stock, what are the underlying trends we should look for in a business? Firstly, we'll want to...\n",
       "\n",
       "### Question:\n",
       "What trends are being reported in the retail industry?\n",
       "\n",
       "### Answer (short and precise):\n",
       "```\n",
       "</details>"
      ],
      "text/plain": [
       "<IPython.core.display.Markdown object>"
      ]
     },
     "metadata": {},
     "output_type": "display_data"
    },
    {
     "data": {
      "text/markdown": [
       "### **Generated Answer**:\n",
       "The retail industry is experiencing volatility, with demand fluctuating due to changes in consumer spending. Over the past six months, retail stocks have declined by 13.7%, significantly underperforming the S&P 500's 5.5% loss. Additionally, retailers are adapting their business models in response to technological changes and are adjusting supply chains due to trade policies.\n"
      ],
      "text/plain": [
       "<IPython.core.display.Markdown object>"
      ]
     },
     "metadata": {},
     "output_type": "display_data"
    },
    {
     "data": {
      "text/markdown": [
       "---\n",
       "### **News Context Used**:\n",
       "- Ticker: KMX\n",
       "Company: CarMax, Inc.\n",
       "Sector: Consumer Cyclical\n",
       "Industry: Auto & Truck Dealerships\n",
       "News: 3 Consumer Stocks That Concern Us : Retailers are adapting their business models as technology changes how people shop. Still, demand can be volatile as the industry is exposed to the ups and downs of consumer spending. This has stirred some uncertainty lately as retail stocks have tumbled by 13.7% over the past six months. This performance was worse than the S&P 500’s 5.5% loss.\n",
       "\n",
       "- Ticker: BBY\n",
       "Company: Best Buy Co., Inc.\n",
       "Sector: Consumer Cyclical\n",
       "Industry: Specialty Retail\n",
       "News: Retailers, Ducking Trade-War Curveballs, Stick to Their Plans : As legal rulings roll in on Trump’s tariff policies, retail executives say they have shifted their supply chains and many price increases already have hit shelves.\n",
       "\n",
       "- Ticker: HLT\n",
       "Company: Hilton Worldwide Holdings Inc.\n",
       "Sector: Consumer Cyclical\n",
       "Industry: Lodging\n",
       "News: 3 Consumer Stocks Skating on Thin Ice : The performance of consumer discretionary businesses is closely linked to economic cycles. Over the past six months, it seems like demand trends are working against their favor as the industry has tumbled by 12.3%. This drop was significantly worse than the S&P 500’s 2.1% decline.\n",
       "\n",
       "- Ticker: PKG\n",
       "Company: Packaging Corporation of America\n",
       "Sector: Consumer Cyclical\n",
       "Industry: Packaging & Containers\n",
       "News: Packaging Corporation of America (NYSE:PKG) Hasn't Managed To Accelerate Its Returns : What trends should we look for it we want to identify stocks that can multiply in value over the long term? Amongst...\n",
       "\n",
       "- Ticker: APD\n",
       "Company: Air Products and Chemicals, Inc.\n",
       "Sector: Basic Materials\n",
       "Industry: Specialty Chemicals\n",
       "News: Air Products and Chemicals (NYSE:APD) Will Be Hoping To Turn Its Returns On Capital Around : To find a multi-bagger stock, what are the underlying trends we should look for in a business? Firstly, we'll want to..."
      ],
      "text/plain": [
       "<IPython.core.display.Markdown object>"
      ]
     },
     "metadata": {},
     "output_type": "display_data"
    },
    {
     "data": {
      "text/markdown": [
       "---\n",
       "## Q3: What risks or challenges are discussed in recent news about the energy industry?"
      ],
      "text/plain": [
       "<IPython.core.display.Markdown object>"
      ]
     },
     "metadata": {},
     "output_type": "display_data"
    },
    {
     "data": {
      "text/markdown": [
       "<details><summary><strong>DEBUG · Prompt enviado al modelo</strong></summary>\n",
       "\n",
       "Tokens aprox: 446\n",
       "\n",
       "```text\n",
       "You are a financial analyst AI. Based on the following news snippets and their associated metadata, answer the user's question.\n",
       "\n",
       "### News Context (with metadata):\n",
       "- Ticker: NEE\n",
       "Company: NextEra Energy, Inc.\n",
       "Sector: Utilities\n",
       "Industry: Utilities - Regulated Electric\n",
       "News: Renewable Energy Stocks Crash as U.S. Advances Bill That Could Decimate the Industry : Congress is pushing forward a bill that could upend the renewable energy industry.  Just as companies have ramped up production and renewable electricity generation in the U.S., those projects may become uneconomical.  The news was about as bad as it could get for renewable energy stocks this week as the U.S. House of Representatives early Thursday passed a bill that will repeal some of the most important subsidies for the industry if it becomes law.\n",
       "\n",
       "- Ticker: ENPH\n",
       "Company: Enphase Energy, Inc.\n",
       "Sector: Technology\n",
       "Industry: Solar\n",
       "News: Renewable Energy Stocks Crash as U.S. Advances Bill That Could Decimate the Industry : Congress is pushing forward a bill that could upend the renewable energy industry.  Just as companies have ramped up production and renewable electricity generation in the U.S., those projects may become uneconomical.  The news was about as bad as it could get for renewable energy stocks this week as the U.S. House of Representatives early Thursday passed a bill that will repeal some of the most important subsidies for the industry if it becomes law.\n",
       "\n",
       "- Ticker: HAL\n",
       "Company: Halliburton Company\n",
       "Sector: Energy\n",
       "Industry: Oil & Gas Equipment & Services\n",
       "News: Tariffs, Prices, and Pain: What's Next for Oilfield Service? : The likes of SLB, HAL and BKR face a tough future as oil prices slide, tariffs rise and drilling budgets shrink - can LNG and AI demand offer enough support?\n",
       "\n",
       "- Ticker: BKR\n",
       "Company: Baker Hughes Company\n",
       "Sector: Energy\n",
       "Industry: Oil & Gas Equipment & Services\n",
       "News: Tariffs, Prices, and Pain: What's Next for Oilfield Service? : The likes of SLB, HAL and BKR face a tough future as oil prices slide, tariffs rise and drilling budgets shrink - can LNG and AI demand offer enough support?\n",
       "\n",
       "- Ticker: FCX\n",
       "Company: Freeport-McMoRan Inc.\n",
       "Sector: Basic Materials\n",
       "Industry: Copper\n",
       "News: 3 American Companies Investors Need to Know Amid Trump's Tariff Wars : Copper is a critical metal for the U.S. industrial economy.  This American appliance maker expects the Trump administration to close loopholes that will improve its competitive positioning.  It's difficult to predict precisely what the tariff landscape will look like when the dust settles on the trade conflict, but we can say some things with a high degree of certainty.\n",
       "\n",
       "### Question:\n",
       "What risks or challenges are discussed in recent news about the energy industry?\n",
       "\n",
       "### Answer (short and precise):\n",
       "```\n",
       "</details>"
      ],
      "text/plain": [
       "<IPython.core.display.Markdown object>"
      ]
     },
     "metadata": {},
     "output_type": "display_data"
    },
    {
     "data": {
      "text/markdown": [
       "### **Generated Answer**:\n",
       "Recent news highlights several risks and challenges in the energy industry, particularly for renewable energy stocks, including the potential repeal of crucial subsidies by the U.S. Congress, which could render many renewable projects uneconomical. Additionally, the oil and gas sector faces pressures from sliding oil prices, rising tariffs, and shrinking drilling budgets, raising concerns about the future of oilfield services.\n"
      ],
      "text/plain": [
       "<IPython.core.display.Markdown object>"
      ]
     },
     "metadata": {},
     "output_type": "display_data"
    },
    {
     "data": {
      "text/markdown": [
       "---\n",
       "### **News Context Used**:\n",
       "- Ticker: NEE\n",
       "Company: NextEra Energy, Inc.\n",
       "Sector: Utilities\n",
       "Industry: Utilities - Regulated Electric\n",
       "News: Renewable Energy Stocks Crash as U.S. Advances Bill That Could Decimate the Industry : Congress is pushing forward a bill that could upend the renewable energy industry.  Just as companies have ramped up production and renewable electricity generation in the U.S., those projects may become uneconomical.  The news was about as bad as it could get for renewable energy stocks this week as the U.S. House of Representatives early Thursday passed a bill that will repeal some of the most important subsidies for the industry if it becomes law.\n",
       "\n",
       "- Ticker: ENPH\n",
       "Company: Enphase Energy, Inc.\n",
       "Sector: Technology\n",
       "Industry: Solar\n",
       "News: Renewable Energy Stocks Crash as U.S. Advances Bill That Could Decimate the Industry : Congress is pushing forward a bill that could upend the renewable energy industry.  Just as companies have ramped up production and renewable electricity generation in the U.S., those projects may become uneconomical.  The news was about as bad as it could get for renewable energy stocks this week as the U.S. House of Representatives early Thursday passed a bill that will repeal some of the most important subsidies for the industry if it becomes law.\n",
       "\n",
       "- Ticker: HAL\n",
       "Company: Halliburton Company\n",
       "Sector: Energy\n",
       "Industry: Oil & Gas Equipment & Services\n",
       "News: Tariffs, Prices, and Pain: What's Next for Oilfield Service? : The likes of SLB, HAL and BKR face a tough future as oil prices slide, tariffs rise and drilling budgets shrink - can LNG and AI demand offer enough support?\n",
       "\n",
       "- Ticker: BKR\n",
       "Company: Baker Hughes Company\n",
       "Sector: Energy\n",
       "Industry: Oil & Gas Equipment & Services\n",
       "News: Tariffs, Prices, and Pain: What's Next for Oilfield Service? : The likes of SLB, HAL and BKR face a tough future as oil prices slide, tariffs rise and drilling budgets shrink - can LNG and AI demand offer enough support?\n",
       "\n",
       "- Ticker: FCX\n",
       "Company: Freeport-McMoRan Inc.\n",
       "Sector: Basic Materials\n",
       "Industry: Copper\n",
       "News: 3 American Companies Investors Need to Know Amid Trump's Tariff Wars : Copper is a critical metal for the U.S. industrial economy.  This American appliance maker expects the Trump administration to close loopholes that will improve its competitive positioning.  It's difficult to predict precisely what the tariff landscape will look like when the dust settles on the trade conflict, but we can say some things with a high degree of certainty."
      ],
      "text/plain": [
       "<IPython.core.display.Markdown object>"
      ]
     },
     "metadata": {},
     "output_type": "display_data"
    }
   ],
   "source": [
    "def rag_meta_query_pipeline(\n",
    "    question,\n",
    "    vector_store,\n",
    "    client,\n",
    "    df_meta,\n",
    "    k=5,\n",
    "    model=\"gpt-4o-mini\",\n",
    "    debug=False,              \n",
    "    truncate_chars=None       #TRUNCATE\n",
    "):\n",
    "    retrieved = vector_store.search(question, k=k)\n",
    "    if not retrieved:\n",
    "        if debug:\n",
    "            print_markdown(\"**[DEBUG]** No retrieved results.\")\n",
    "        return \"There isn't any relevant info.\", []\n",
    "\n",
    "    enriched_snippets = []\n",
    "    used_docs = []\n",
    "\n",
    "    for doc, metadata, score in retrieved:  \n",
    "        if not isinstance(metadata, dict):\n",
    "            metadata = {}\n",
    "\n",
    "        # Recortar snippet si se pide\n",
    "        doc_out = doc if truncate_chars is None else (doc[:truncate_chars] + \"…\") if len(doc) > truncate_chars else doc\n",
    "\n",
    "        ticker = metadata.get(\"TICKER\", None)\n",
    "\n",
    "        meta_row = None\n",
    "        if ticker and ticker in df_meta[\"TICKER\"].values:\n",
    "            meta_row = df_meta[df_meta[\"TICKER\"] == ticker].iloc[0]\n",
    "\n",
    "        if meta_row is not None:\n",
    "            company  = meta_row.get(\"COMPANY_NAME\", \"N/A\")\n",
    "            sector   = meta_row.get(\"SECTOR\", \"N/A\")\n",
    "            industry = meta_row.get(\"INDUSTRY\", \"N/A\")\n",
    "            enriched_text = f\"\"\"Ticker: {ticker}\n",
    "Company: {company}\n",
    "Sector: {sector}\n",
    "Industry: {industry}\n",
    "News: {doc_out}\"\"\"\n",
    "        else:\n",
    "            enriched_text = f\"\"\"Ticker: {ticker if ticker else \"N/A\"}\n",
    "News: {doc_out}\"\"\"\n",
    "\n",
    "        enriched_snippets.append(enriched_text)\n",
    "        used_docs.append({\"doc\": doc, \"metadata\": metadata, \"score\": score})\n",
    "\n",
    "    context_text = \"\\n\\n\".join(f\"- {s}\" for s in enriched_snippets)\n",
    "\n",
    "    prompt = f\"\"\"You are a financial analyst AI. Based on the following news snippets and their associated metadata, answer the user's question.\n",
    "\n",
    "### News Context (with metadata):\n",
    "{context_text}\n",
    "\n",
    "### Question:\n",
    "{question}\n",
    "\n",
    "### Answer (short and precise):\"\"\"\n",
    "\n",
    "    # DEBUG\n",
    "    if debug:\n",
    "        print_markdown(\n",
    "            f\"<details><summary><strong>DEBUG · Prompt enviado al modelo</strong></summary>\\n\\n\"\n",
    "            f\"Tokens aprox: {len(prompt.split())}\\n\\n\"\n",
    "            f\"```text\\n{prompt}\\n```\\n\"\n",
    "            f\"</details>\"\n",
    "        )\n",
    "\n",
    "    resp = client.chat.completions.create(model=model, messages=[{\"role\":\"user\",\"content\":prompt}])\n",
    "    answer = resp.choices[0].message.content\n",
    "\n",
    "    print_markdown(f\"### **Generated Answer**:\\n{answer}\\n\")\n",
    "    print_markdown(f\"---\\n### **News Context Used**:\\n{context_text}\")\n",
    "\n",
    "    return answer, used_docs\n",
    "\n",
    "\n",
    "def run_rag_batch(questions, category, vector_store, client, df_meta, k=5, debug_prompts=False, truncate_chars=None):\n",
    "    print_markdown(f\"# Category: **{category}**\")\n",
    "    for i, question in enumerate(questions, 1):\n",
    "        print_markdown(f\"---\\n## Q{i}: {question}\")\n",
    "        rag_meta_query_pipeline(\n",
    "            question,\n",
    "            vector_store,\n",
    "            client,\n",
    "            df_meta,\n",
    "            k=k,\n",
    "            debug=debug_prompts,       \n",
    "            truncate_chars=truncate_chars\n",
    "        )\n",
    "\n",
    "run_rag_batch(questions_topic, \"Topic-based Questions\", faiss_store, client, df_meta, debug_prompts=True)\n",
    "run_rag_batch(questions_company, \"Company-based Questions\", faiss_store, client, df_meta, debug_prompts=True)\n",
    "run_rag_batch(questions_industry, \"Industry-based Questions\", faiss_store, client, df_meta, debug_prompts=True)"
   ]
  },
  {
   "cell_type": "markdown",
   "id": "80f53c26",
   "metadata": {},
   "source": [
    "## Analysis & Questions - Section 2"
   ]
  },
  {
   "cell_type": "markdown",
   "id": "cfbff478",
   "metadata": {},
   "source": [
    "### Instructions: Evaluate Answers With and Without Metadata\n",
    "\n",
    "For each question, compare the two answers provided:\n",
    "- One generated **without** metadata\n",
    "- One generated **with** metadata\n",
    "\n",
    "---\n",
    "\n",
    "### Steps:\n",
    "\n",
    "1. Use the following evaluation criteria:\n",
    "   - Clarity\n",
    "   - Detail & Depth\n",
    "   - Use of Context\n",
    "   - Accuracy & Grounding\n",
    "   - Relevance\n",
    "   - Narrrative Flow\n",
    "\n",
    "2. For each criterion, write brief notes comparing how the answer **without metadata** performs versus the answer **with metadata**.\n",
    "\n",
    "3. Summarize your evaluation in a markdown table with the following columns:\n",
    "\n",
    "| Criteria       | WITHOUT METADATA            | WITH METADATA             |\n",
    "|----------------|----------------------------|--------------------------|\n",
    "| Clarity        | [Your brief note here]     | [Your brief note here]   |\n",
    "| Detail & Depth         | [Your brief note here]     | [Your brief note here]   |\n",
    "| Use of Context        | [Your brief note here]     | [Your brief note here]   |\n",
    "| Accuracy & Grounding       | [Your brief note here]     | [Your brief note here]   |\n",
    "| Relevance      | [Your brief note here]     | [Your brief note here]   |\n",
    "| Narrative Flow      | [Your brief note here]     | [Your brief note here]   |\n",
    "\n",
    "---\n",
    "\n",
    "**Note:** Keep comments short and clear for easy comparison.\n",
    "\n"
   ]
  },
  {
   "cell_type": "markdown",
   "id": "deb873f3",
   "metadata": {},
   "source": [
    "### TOPIC\n",
    "\n",
    "\n",
    "\"What are the major concerns expressed in financial news about inflation?\",\n",
    "\n",
    "| Criteria       | WITHOUT METADATA            | WITH METADATA             |\n",
    "|----------------|----------------------------|--------------------------|\n",
    "| Clarity        | [to be fair, the text is clear]     | [the text its also clear]   |\n",
    "| Detail & Depth         | [gives more detail]     | [its more consice]   |\n",
    "| Use of Context        | [good use of the context]     | [good use of the context]   |\n",
    "| Accuracy & Grounding       | [the answer its accurate]     | [the answer its accurate]   |\n",
    "| Relevance      | [snippets are relevent to the answer]     | [snippets are relevent to the answer]   |\n",
    "| Narrative Flow      | [the answer could be condensed]     | [Great answer, really concise]   |\n",
    "\n",
    "\"How is investor sentiment described in recent financial headlines?\",\n",
    "\n",
    "| Criteria       | WITHOUT METADATA            | WITH METADATA             |\n",
    "|----------------|----------------------------|--------------------------|\n",
    "| Clarity        | [it lacks a little bit of clarity]     | [the test its clear]   |\n",
    "| Detail & Depth         | [brings detail but it didn´t answer the question]     | [the answer is concise and correct]   |\n",
    "| Use of Context        | [good use of context]     | [good use of context]   |\n",
    "| Accuracy & Grounding       | [it lacks accuracy]     | [it´s more accurate]   |\n",
    "| Relevance      | [the snippets are relevant, but the answer don´t]     | [the snippets were relevant, as well as the answer]   |\n",
    "| Narrative Flow      | [it didnt condense the information]     | [the answer was spot on]   |\n",
    "\n",
    "\"What role is artificial intelligence playing in recent finance-related news stories?\"\n",
    "\n",
    "| Criteria       | WITHOUT METADATA            | WITH METADATA             |\n",
    "|----------------|----------------------------|--------------------------|\n",
    "| Clarity        | [its more like a resume of the snippets]     | [Great clarity]   |\n",
    "| Detail & Depth         | [the answer its detailed enough]     | [the analysis it's more detailed]   |\n",
    "| Use of Context        | [the answer make good use of context]     | []   |\n",
    "| Accuracy & Grounding       | [its acurrate]     | [its accurate]   |\n",
    "| Relevance      | [the snippets are somewaht relevant]     | [the snippets and the anwer are more relevant]   |\n",
    "| Narrative Flow      | [its like a resumme in general]     | [the metadata made the anwer generated more useful]   |\n",
    "\n",
    "\n",
    "### COMPANY\n",
    "\n",
    "\"How is Microsoft being portrayed in news stories about artificial intelligence?\",\n",
    "\n",
    "| Criteria       | WITHOUT METADATA            | WITH METADATA             |\n",
    "|----------------|----------------------------|--------------------------|\n",
    "| Clarity        | [n/a]     | [n/a]   |\n",
    "| Detail & Depth         | [n/a]     | [n/a]   |\n",
    "| Use of Context        | [n/a]     | [n/a]   |\n",
    "| Accuracy & Grounding       | [n/a]     | [n/a]   |\n",
    "| Relevance      | [n/a]     | [n/a]   |\n",
    "| Narrative Flow      | [n/a]     | [n/a]   |\n",
    "\n",
    "NOTE: There are news of Microsoft related to AI, however in both versions of the pipeline the didn make it way to the top snippets.\n",
    "\n",
    "\n",
    "\"What financial news headlines connect Amazon with automation or logistics?\"\n",
    "\n",
    "| Criteria       | WITHOUT METADATA            | WITH METADATA             |\n",
    "|----------------|----------------------------|--------------------------|\n",
    "| Clarity        | [the generated answer its clear]     | [the anser is a little more consice]   |\n",
    "| Detail & Depth         | [the answer its detailed]     | [the anser is similar]   |\n",
    "| Use of Context        | [good use of context]     | [the anser employs similar conext]   |\n",
    "| Accuracy & Grounding       | [the anwer its accurate]     | [the answer its accurate] \n",
    "| Relevance      | [the snippets are relevant to the question]     | [the answer its relevant]   |\n",
    "| Narrative Flow      | [it only presents the 2 news required]     | [the anser is similar]   |\n",
    "\n",
    "\n",
    "### INDUSTRY\n",
    "\n",
    "\"What are the main themes emerging in financial news about the semiconductor industry?\",\n",
    "\n",
    "| Criteria       | WITHOUT METADATA            | WITH METADATA             |\n",
    "|----------------|----------------------------|--------------------------|\n",
    "| Clarity        | [the answer is somewhat clear]     | [the anser is more concise]   |\n",
    "| Detail & Depth         | [it lackss detail and depth]     | [the anser has some detail]   |\n",
    "| Use of Context        | [the snippets are biassed]     | [the snippets are a little less biased]   |\n",
    "| Accuracy & Grounding       | [the news are biassed toward one company]     | [the anser is a biassed]   |\n",
    "| Relevance      | [the answer is somwhat relevant]     | [the anser is somewhat relevant]   |\n",
    "| Narrative Flow      | [it lacks narrative flow, the answer are bullet points]     | [it has good narrative flow]   |\n",
    "\n",
    "\n",
    "\"What trends are being reported in the retail industry?\",\n",
    "\n",
    "| Criteria       | WITHOUT METADATA            | WITH METADATA             |\n",
    "|----------------|----------------------------|--------------------------|\n",
    "| Clarity        | [the answer is clear]     | [the anser is similar]   |\n",
    "| Detail & Depth         | [the answer has a little detail]     | [the anser is similar]   |\n",
    "| Use of Context        | [the snippets are relevant]     | [the anser is similar]   \n",
    "| Accuracy & Grounding       | [it has a degre of accuracy]     | [the anser is similar]   |\n",
    "| Relevance      | [globaly the answer is relevant]     | [the anser is similar]   |\n",
    "| Narrative Flow      | [has goog narrative flow]     | [the anser is similar]   |\n",
    "\n",
    "\n",
    "\"What risks or challenges are discussed in recent news about the energy industry?\"\n",
    "\n",
    "| Criteria       | WITHOUT METADATA            | WITH METADATA             |\n",
    "|----------------|----------------------------|--------------------------|\n",
    "| Clarity        | [it lacks clarity]     | [the anser its very clear]   |\n",
    "| Detail & Depth         | [the answer has little datil]     | [the anser has enough detail]   |\n",
    "| Use of Context        | [the answer loks like a poor sumary]     | [the answer make great use of snippets]   |\n",
    "| Accuracy & Grounding       | [the answer is somewhat accurate]     | [the answer its accurate]   |\n",
    "| Relevance      | [the answer its somewhat relevant]     | [the answer is relevant to the question]   |\n",
    "| Narrative Flow      | [the narrative flow is basic]     | [it has great narrative flow]   |\n",
    "\n"
   ]
  },
  {
   "cell_type": "markdown",
   "id": "eb765b8f",
   "metadata": {},
   "source": [
    "### CONSLUSION\n",
    "\n",
    "_THE RAG METHOD IMPROVES THE RELEVANT INFO WE CAN GET FROM THE NEWS OUTLET, ITS IMPORTANT TO IMPROVE THE METHOD, HERE IN THE EXCERCISE WE GET BETTER RESULTS WHEN WE ADD METADATA TO THE LLM PROMPT, HOWEVER THE ORDER OF THE SNIPPETS REALLY AFFECT THE FINAL RESULTS._"
   ]
  }
 ],
 "metadata": {
  "kernelspec": {
   "display_name": "base",
   "language": "python",
   "name": "python3"
  },
  "language_info": {
   "codemirror_mode": {
    "name": "ipython",
    "version": 3
   },
   "file_extension": ".py",
   "mimetype": "text/x-python",
   "name": "python",
   "nbconvert_exporter": "python",
   "pygments_lexer": "ipython3",
   "version": "3.12.7"
  }
 },
 "nbformat": 4,
 "nbformat_minor": 5
}
